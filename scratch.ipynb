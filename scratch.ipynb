{
 "cells": [
  {
   "cell_type": "code",
   "execution_count": 4,
   "metadata": {},
   "outputs": [],
   "source": [
    "from src.squareeyes import datasets, classes"
   ]
  },
  {
   "cell_type": "code",
   "execution_count": 3,
   "metadata": {},
   "outputs": [
    {
     "name": "stderr",
     "output_type": "stream",
     "text": [
      "Unzipping src/squareeyes/datasets/coco2017labels.zip to /home/tasanders/GitHub/SquareEyes/src/squareeyes/datasets...\n",
      "Skipping src/squareeyes/datasets/coco2017labels.zip unzip (already unzipped)\n",
      "Unzipping src/squareeyes/datasets/coco/images/val2017.zip to /home/tasanders/GitHub/SquareEyes/src/squareeyes/datasets/coco/images...\n",
      "Unzipping src/squareeyes/datasets/coco/images/train2017.zip to /home/tasanders/GitHub/SquareEyes/src/squareeyes/datasets/coco/images...\n",
      "Unzipping src/squareeyes/datasets/coco/images/test2017.zip to /home/tasanders/GitHub/SquareEyes/src/squareeyes/datasets/coco/images...\n",
      "Skipping src/squareeyes/datasets/coco/images/val2017.zip unzip (already unzipped)\n",
      "Skipping src/squareeyes/datasets/coco/images/test2017.zip unzip (already unzipped)\n",
      "Skipping src/squareeyes/datasets/coco/images/train2017.zip unzip (already unzipped)\n"
     ]
    }
   ],
   "source": [
    "datasets.download_coco()"
   ]
  }
 ],
 "metadata": {
  "kernelspec": {
   "display_name": "square_eyes",
   "language": "python",
   "name": "python3"
  },
  "language_info": {
   "codemirror_mode": {
    "name": "ipython",
    "version": 3
   },
   "file_extension": ".py",
   "mimetype": "text/x-python",
   "name": "python",
   "nbconvert_exporter": "python",
   "pygments_lexer": "ipython3",
   "version": "3.10.11"
  },
  "orig_nbformat": 4
 },
 "nbformat": 4,
 "nbformat_minor": 2
}
