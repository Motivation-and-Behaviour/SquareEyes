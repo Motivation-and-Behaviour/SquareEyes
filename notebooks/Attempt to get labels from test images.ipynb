{
 "cells": [
  {
   "cell_type": "markdown",
   "metadata": {},
   "source": [
    "Import libraries"
   ]
  },
  {
   "cell_type": "code",
   "execution_count": 1,
   "metadata": {},
   "outputs": [
    {
     "name": "stderr",
     "output_type": "stream",
     "text": [
      "Using TensorFlow backend.\n"
     ]
    }
   ],
   "source": [
    "# import os\n",
    "# import sys\n",
    "# import datetime\n",
    "import glob as glob\n",
    "import numpy as np\n",
    "import cv2\n",
    "import pandas as pd\n",
    "import keras\n",
    "from keras.applications.inception_v3 import preprocess_input, decode_predictions\n",
    "# from keras.applications.vgg16 import VGG16, preprocess_input\n",
    "# from keras.models import Model\n",
    "# from keras.layers import Dense, GlobalAveragePooling2D\n",
    "# from keras.preprocessing.image import ImageDataGenerator, array_to_img, img_to_array, load_img\n",
    "# from keras.optimizers import SGD\n",
    "# import tensorflow\n",
    "# from scipy.interpolate import spline\n",
    "\n",
    "# import matplotlib.pyplot as plt\n",
    "# %matplotlib inline"
   ]
  },
  {
   "cell_type": "markdown",
   "metadata": {},
   "source": [
    "Import the pretrained model"
   ]
  },
  {
   "cell_type": "code",
   "execution_count": 2,
   "metadata": {},
   "outputs": [],
   "source": [
    "from keras.applications import InceptionV3"
   ]
  },
  {
   "cell_type": "markdown",
   "metadata": {},
   "source": [
    "Instatiate a copy of the model and copy in the labels"
   ]
  },
  {
   "cell_type": "code",
   "execution_count": 3,
   "metadata": {},
   "outputs": [],
   "source": [
    "model = InceptionV3()\n",
    "labels = pd.read_csv('/Users/tasanders/Documents/TF_Test_Project/categories.csv')\n"
   ]
  },
  {
   "cell_type": "markdown",
   "metadata": {},
   "source": [
    "Names of the folders to investigate. Note that this assumes we're in the /Users/tasanders/Documents/TF_Test_Project/ folder. Should probably make this more general."
   ]
  },
  {
   "cell_type": "code",
   "execution_count": 4,
   "metadata": {},
   "outputs": [],
   "source": [
    "folders = ['With Screens', 'Without Screens']\n",
    "locations = ['Brinno Camera Test', 'Photos to test Inception']"
   ]
  },
  {
   "cell_type": "markdown",
   "metadata": {},
   "source": [
    "Make a function to create a CSV for each folder with the probabilities and labels."
   ]
  },
  {
   "cell_type": "code",
   "execution_count": 5,
   "metadata": {},
   "outputs": [],
   "source": [
    "def predict_and_save(folder,location):\n",
    "    num_images = len(glob.glob(location+'/'+folder+'/*.jpg'))\n",
    "    predict_files = glob.glob(location+'/'+folder+'/*.jpg')\n",
    "\n",
    "    im = cv2.imread(predict_files[0])\n",
    "    im = cv2.cvtColor(im, cv2.COLOR_BGR2RGB)\n",
    "    im = cv2.resize(im, (256, 256)).astype(np.float32)\n",
    "    im = np.expand_dims(im, axis = 0)/255\n",
    "    \n",
    "    predictor, prob, image_id = [], [], []\n",
    "    for i in predict_files:\n",
    "        im = cv2.imread(i)\n",
    "        im = cv2.resize(cv2.cvtColor(im, cv2.COLOR_BGR2RGB), (256, 256)).astype(np.float32) / 255.0\n",
    "        im = np.expand_dims(im, axis =0)\n",
    "        outcome = [np.argmax(model.predict(im))]\n",
    "        predictor.extend(list(outcome))\n",
    "        prob_out = model.predict(im)[0][outcome]\n",
    "        prob.extend(list(prob_out))\n",
    "        image_id.extend([i.rsplit(\"/\")[-1]])\n",
    "        \n",
    "    final = pd.DataFrame()\n",
    "    final[\"id\"] = image_id\n",
    "    final[\"Label\"] = predictor\n",
    "    final['Probability'] = prob\n",
    "\n",
    "    final[\"Label_Name\"] = final[\"Label\"].apply(lambda x: labels['CategoryName'][x])\n",
    "    final.sort_values('id', inplace=True)\n",
    "    final.to_csv(location+'/'+folder+'.csv',index=False)"
   ]
  },
  {
   "cell_type": "code",
   "execution_count": 6,
   "metadata": {},
   "outputs": [
    {
     "name": "stdout",
     "output_type": "stream",
     "text": [
      "Working on location: Brinno Camera Test\n",
      "Working on folder: With Screens\n",
      "Working on folder: Without Screens\n",
      "Working on location: Photos to test Inception\n",
      "Working on folder: With Screens\n",
      "Working on folder: Without Screens\n"
     ]
    }
   ],
   "source": [
    "for location in locations:\n",
    "    print(f\"Working on location: {location}\")\n",
    "    for folder in folders:\n",
    "        print(f\"Working on folder: {folder}\")\n",
    "        predict_and_save(folder,location)"
   ]
  },
  {
   "cell_type": "code",
   "execution_count": 7,
   "metadata": {},
   "outputs": [],
   "source": [
    "def predict_and_save_v2(folder, location):\n",
    "    num_images = len(glob.glob(location+'/'+folder+'/*.jpg'))\n",
    "    predict_files = glob.glob(location+'/'+folder+'/*.jpg')\n",
    "\n",
    "    im = cv2.imread(predict_files[0])\n",
    "    im = cv2.cvtColor(im, cv2.COLOR_BGR2RGB)\n",
    "    im = cv2.resize(im, (256, 256)).astype(np.float32)\n",
    "    im = np.expand_dims(im, axis = 0)/255\n",
    "    \n",
    "    predictor, prob, image_id = [], [], []\n",
    "    final = pd.DataFrame(columns=['id','prediction','confidence','image'])\n",
    "    for i in predict_files:\n",
    "        im = cv2.imread(i)\n",
    "        im = cv2.resize(cv2.cvtColor(im, cv2.COLOR_BGR2RGB), (256, 256)).astype(np.float32) / 255.0\n",
    "        im = np.expand_dims(im, axis =0)\n",
    "        preds = model.predict(im)\n",
    "        preds = decode_predictions(preds)[0]        \n",
    "        \n",
    "        temp_df = pd.DataFrame(preds,columns=['id','prediction','confidence'])\n",
    "        temp_df['image'] = i.rsplit(\"/\")[-1]\n",
    "        final = final.append(temp_df)\n",
    "        \n",
    "#     final.sort_values('id', inplace=True)\n",
    "    final.to_csv(location+'/'+folder+'_v2.csv',index=False)"
   ]
  },
  {
   "cell_type": "code",
   "execution_count": 8,
   "metadata": {},
   "outputs": [
    {
     "name": "stdout",
     "output_type": "stream",
     "text": [
      "Working on location: Brinno Camera Test\n",
      "Working on folder: With Screens\n",
      "Working on folder: Without Screens\n",
      "Working on location: Photos to test Inception\n",
      "Working on folder: With Screens\n",
      "Working on folder: Without Screens\n"
     ]
    }
   ],
   "source": [
    "for location in locations:\n",
    "    print(f\"Working on location: {location}\")\n",
    "    for folder in folders:\n",
    "        print(f\"Working on folder: {folder}\")\n",
    "        predict_and_save_v2(folder,location)"
   ]
  },
  {
   "cell_type": "code",
   "execution_count": 21,
   "metadata": {},
   "outputs": [],
   "source": [
    "from sklearn.metrics import classification_report, confusion_matrix, auc, roc_auc_score, roc_curve"
   ]
  },
  {
   "cell_type": "code",
   "execution_count": 26,
   "metadata": {},
   "outputs": [],
   "source": [
    "original_test = pd.read_csv('Classification_Report.csv')\n",
    "brinno_test = pd.read_csv('Classification_Report_Brinno.csv')\n",
    "no_off_test = pd.read_csv('Classification_Report_NoOffScreens.csv')"
   ]
  },
  {
   "cell_type": "code",
   "execution_count": 61,
   "metadata": {},
   "outputs": [
    {
     "name": "stdout",
     "output_type": "stream",
     "text": [
      "Original Test Data:\n",
      "               precision    recall  f1-score   support\n",
      "\n",
      "           0       0.84      0.94      0.89        50\n",
      "           1       0.93      0.82      0.87        50\n",
      "\n",
      "   micro avg       0.88      0.88      0.88       100\n",
      "   macro avg       0.89      0.88      0.88       100\n",
      "weighted avg       0.89      0.88      0.88       100\n",
      " \n",
      "Confusion matrix:\n",
      " [[47  3]\n",
      " [ 9 41]] \n",
      "\n",
      "AUC Score: 0.8799999999999998\n",
      "\n",
      "\n",
      "Original Without Off Screens Test Data:\n",
      "               precision    recall  f1-score   support\n",
      "\n",
      "           0       0.85      0.94      0.90        50\n",
      "           1       0.92      0.82      0.87        44\n",
      "\n",
      "   micro avg       0.88      0.88      0.88        94\n",
      "   macro avg       0.89      0.88      0.88        94\n",
      "weighted avg       0.89      0.88      0.88        94\n",
      " \n",
      "Confusion matrix:\n",
      " [[47  3]\n",
      " [ 8 36]] \n",
      "\n",
      "AUC Score: 0.8790909090909091\n",
      "\n",
      "\n",
      "Brinno Test Data:\n",
      "               precision    recall  f1-score   support\n",
      "\n",
      "           0       0.91      0.79      0.84       160\n",
      "           1       0.56      0.77      0.65        57\n",
      "\n",
      "   micro avg       0.78      0.78      0.78       217\n",
      "   macro avg       0.74      0.78      0.75       217\n",
      "weighted avg       0.82      0.78      0.79       217\n",
      " \n",
      "Confusion matrix:\n",
      " [[126  34]\n",
      " [ 13  44]] \n",
      "\n",
      "AUC Score: 0.7797149122807017\n"
     ]
    }
   ],
   "source": [
    "print('Original Test Data:\\n',\n",
    "     classification_report(original_test['TRUE'],original_test['Pred']),\n",
    "     '\\nConfusion matrix:\\n', confusion_matrix(original_test['TRUE'],original_test['Pred']),\n",
    "     '\\n\\nAUC Score: '+str(roc_auc_score(original_test['TRUE'],original_test['Pred'])))\n",
    "\n",
    "\n",
    "print('\\n\\nOriginal Without Off Screens Test Data:\\n',\n",
    "     classification_report(no_off_test['TRUE'],no_off_test['Pred']),\n",
    "     '\\nConfusion matrix:\\n', confusion_matrix(no_off_test['TRUE'],no_off_test['Pred']),\n",
    "     '\\n\\nAUC Score: '+str(roc_auc_score(no_off_test['TRUE'],no_off_test['Pred'])))\n",
    "\n",
    "print('\\n\\nBrinno Test Data:\\n',\n",
    "     classification_report(brinno_test['TRUE'],brinno_test['Pred']),\n",
    "     '\\nConfusion matrix:\\n', confusion_matrix(brinno_test['TRUE'],brinno_test['Pred']),\n",
    "     '\\n\\nAUC Score: '+str(roc_auc_score(brinno_test['TRUE'],brinno_test['Pred'])))\n"
   ]
  }
 ],
 "metadata": {
  "kernelspec": {
   "display_name": "Python 3",
   "language": "python",
   "name": "python3"
  },
  "language_info": {
   "codemirror_mode": {
    "name": "ipython",
    "version": 3
   },
   "file_extension": ".py",
   "mimetype": "text/x-python",
   "name": "python",
   "nbconvert_exporter": "python",
   "pygments_lexer": "ipython3",
   "version": "3.7.7"
  }
 },
 "nbformat": 4,
 "nbformat_minor": 4
}
