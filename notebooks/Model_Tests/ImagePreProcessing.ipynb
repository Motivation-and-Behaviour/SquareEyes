{
 "cells": [
  {
   "cell_type": "markdown",
   "metadata": {},
   "source": [
    "Steps:\n",
    "1. Match images and pre-coded data\n",
    "2. See if images need to be moved into new buckets\n",
    "    If so, do this on the network drive\n",
    "3. Load images into numpy arrays"
   ]
  },
  {
   "cell_type": "code",
   "execution_count": 241,
   "metadata": {},
   "outputs": [],
   "source": [
    "import glob\n",
    "import pandas as pd\n",
    "import numpy as np\n",
    "import os\n",
    "from multiprocessing import Pool"
   ]
  },
  {
   "cell_type": "code",
   "execution_count": 242,
   "metadata": {},
   "outputs": [],
   "source": [
    "path = \"/Volumes/M&B/Screen_Time_Measure_Development/SNAP_IT\""
   ]
  },
  {
   "cell_type": "code",
   "execution_count": 243,
   "metadata": {},
   "outputs": [],
   "source": [
    "csv_files = glob.glob(path + \"/**/*.csv\",recursive=True)\n",
    "\n",
    "csv_files = [x for x in csv_files if \"Backups\" not in x]"
   ]
  },
  {
   "cell_type": "code",
   "execution_count": 244,
   "metadata": {},
   "outputs": [],
   "source": [
    "dataframes = []\n",
    "for file in csv_files:\n",
    "    df = pd.read_csv(file)\n",
    "    df['source'] = file\n",
    "    dataframes.append(df)\n",
    "\n",
    "combined_csv = pd.concat(dataframes)"
   ]
  },
  {
   "cell_type": "code",
   "execution_count": 245,
   "metadata": {},
   "outputs": [],
   "source": [
    "combined_csv = combined_csv.loc[:,['File', 'RelativePath', 'Folder','ImageQuality','screens_n', \n",
    "                    'screen1', 'screen2', 'screen_tag','screen3', 'act1', 'act2', \n",
    "                    'act3','people', 'source']]"
   ]
  },
  {
   "cell_type": "code",
   "execution_count": 246,
   "metadata": {},
   "outputs": [],
   "source": [
    "combined_csv.sort_values(\"source\", inplace=True)"
   ]
  },
  {
   "cell_type": "code",
   "execution_count": 262,
   "metadata": {},
   "outputs": [],
   "source": [
    "combined_csv.drop_duplicates(list(combined_csv.columns)[:-5],inplace=True, ignore_index=True)"
   ]
  },
  {
   "cell_type": "code",
   "execution_count": 263,
   "metadata": {},
   "outputs": [],
   "source": [
    "combined_csv[\"screens_n\"] = combined_csv.loc[:,[\"screen1\",\"screen2\",\"screen3\"]].count(axis = 1)"
   ]
  },
  {
   "cell_type": "code",
   "execution_count": 279,
   "metadata": {},
   "outputs": [],
   "source": [
    "combined_csv[\"fileok\"] = False"
   ]
  },
  {
   "cell_type": "code",
   "execution_count": 280,
   "metadata": {},
   "outputs": [],
   "source": [
    "volume = \"/Volumes/M&B/Screen_Time_Measure_Development/SNAP_IT/\""
   ]
  },
  {
   "cell_type": "code",
   "execution_count": 281,
   "metadata": {},
   "outputs": [],
   "source": [
    "def check_file(df):\n",
    "    df[\"filepath\"] = df.apply(lambda x: os.path.join(volume, str(x[\"Folder\"]), x[\"RelativePath\"], x[\"File\"]), axis=1)\n",
    "    df[\"fileok\"] = df.apply(lambda x: os.path.isfile(x[\"filepath\"]) if not x[\"fileok\"] else x[\"fileok\"], \n",
    "                                            axis=1)\n",
    "    return df\n",
    "\n",
    "def parallelize_df(df, func, n_cores=4):\n",
    "    df_split = np.array_split(df, n_cores)\n",
    "    pool = Pool(n_cores)\n",
    "    df = pd.concat(pool.map(func, df_split))\n",
    "    pool.close()\n",
    "    pool.join()\n",
    "    return df"
   ]
  },
  {
   "cell_type": "code",
   "execution_count": 282,
   "metadata": {},
   "outputs": [
    {
     "name": "stdout",
     "output_type": "stream",
     "text": [
      "CPU times: user 729 ms, sys: 394 ms, total: 1.12 s\n",
      "Wall time: 8min 17s\n"
     ]
    }
   ],
   "source": [
    "%%time\n",
    "combined_csv = parallelize_df(combined_csv, check_file)"
   ]
  },
  {
   "cell_type": "code",
   "execution_count": 283,
   "metadata": {},
   "outputs": [],
   "source": [
    "combined_csv.to_csv(volume+\"combineddata.csv\", index=False)"
   ]
  },
  {
   "cell_type": "code",
   "execution_count": null,
   "metadata": {},
   "outputs": [],
   "source": []
  }
 ],
 "metadata": {
  "kernelspec": {
   "display_name": "Python 3",
   "language": "python",
   "name": "python3"
  },
  "language_info": {
   "codemirror_mode": {
    "name": "ipython",
    "version": 3
   },
   "file_extension": ".py",
   "mimetype": "text/x-python",
   "name": "python",
   "nbconvert_exporter": "python",
   "pygments_lexer": "ipython3",
   "version": "3.7.4"
  }
 },
 "nbformat": 4,
 "nbformat_minor": 4
}
