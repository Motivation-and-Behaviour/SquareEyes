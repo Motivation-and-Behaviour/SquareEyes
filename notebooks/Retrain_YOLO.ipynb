{
 "cells": [
  {
   "cell_type": "markdown",
   "metadata": {},
   "source": [
    "# Retraining YOLO for Screen Time Detection"
   ]
  },
  {
   "cell_type": "markdown",
   "metadata": {},
   "source": [
    "## Create Training/Testing Set "
   ]
  },
  {
   "cell_type": "code",
   "execution_count": 51,
   "metadata": {},
   "outputs": [],
   "source": [
    "import glob as glob\n",
    "import os\n",
    "from pathlib import Path\n",
    "\n",
    "import cv2\n",
    "import matplotlib.pyplot as plt\n",
    "import numpy as np\n",
    "import pandas as pd\n",
    "from sklearn.metrics import (\n",
    "    classification_report,\n",
    "    cohen_kappa_score,\n",
    "    confusion_matrix,\n",
    "    roc_auc_score,\n",
    ")\n",
    "\n",
    "import image_processor\n",
    "import utils\n"
   ]
  },
  {
   "cell_type": "markdown",
   "metadata": {},
   "source": [
    "### Get Classes and Manually Labelled Data\n",
    "We use the classes that we have used in the manual labelling as our target set of classes."
   ]
  },
  {
   "cell_type": "code",
   "execution_count": 2,
   "metadata": {},
   "outputs": [],
   "source": [
    "# TODO\n",
    "# Wrangle labelled data"
   ]
  },
  {
   "cell_type": "markdown",
   "metadata": {},
   "source": [
    "### Get Pre-Labelled Data for Relevant Classes\n",
    "We can supplement our training data using the COCO dataset for classes that are in our target classes. If the model is still weak in some areas, we can try supplementing this with more pre-labelled datasets."
   ]
  },
  {
   "cell_type": "markdown",
   "metadata": {},
   "source": [
    "### COCO"
   ]
  },
  {
   "cell_type": "code",
   "execution_count": 52,
   "metadata": {},
   "outputs": [],
   "source": [
    "# TODO\n",
    "# Check if COCO data is already downloaded. If not, download the labels and images that we want.\n",
    "useful_labels = [\n",
    "    \"bottle\",\n",
    "    \"fork\",\n",
    "    \"knife\",\n",
    "    \"spoon\",\n",
    "    \"bowl\",\n",
    "    \"banana\",\n",
    "    \"apple\",\n",
    "    \"sandwich\",\n",
    "    \"orange\",\n",
    "    \"broccoli\",\n",
    "    \"carrot\",\n",
    "    \"hot dog\",\n",
    "    \"pizza\",\n",
    "    \"donut\",\n",
    "    \"cake\",\n",
    "    \"dining table\",\n",
    "    \"tv\",\n",
    "    \"laptop\",\n",
    "    \"mouse\",\n",
    "    \"remote\",\n",
    "    \"keyboard\",\n",
    "    \"cell phone\",\n",
    "    \"microwave\",\n",
    "    \"oven\",\n",
    "    \"toaster\",\n",
    "    \"sink\",\n",
    "    \"refrigerator\",\n",
    "    \"cup\",\n",
    "]\n",
    "coco_folder = \"/Users/tasanders/Documents/coco\"\n",
    "class_file = \"/Users/tasanders/GitHub/labelImg/data/predefined_classes.txt\"\n",
    "coco_labels = \"/Users/tasanders/Documents/coco/labels\"\n",
    "snapit_labels = (\n",
    "    \"/Volumes/M&B/Screen_Time_Measure_Development/SNAP_IT/YOLO_Training/Labelled_Data\"\n",
    ")\n",
    "\n",
    "open_labels = \"/Users/tasanders/Documents/openimages/labels\"\n",
    "oi_folder = \"/Users/tasanders/Documents/openimages\""
   ]
  },
  {
   "cell_type": "code",
   "execution_count": 4,
   "metadata": {},
   "outputs": [
    {
     "name": "stdout",
     "output_type": "stream",
     "text": [
      "Finding meta-data\n",
      "Making folders\n",
      "Getting coco data\n",
      "Working on instances_val2017.json\n",
      "loading annotations into memory...\n"
     ]
    },
    {
     "name": "stderr",
     "output_type": "stream",
     "text": [
      "100%|██████████| 1756/1756 [00:00<00:00, 355617.68it/s]"
     ]
    },
    {
     "name": "stdout",
     "output_type": "stream",
     "text": [
      "Done (t=0.75s)\n",
      "creating index...\n",
      "index created!\n",
      "Working on instances_train2017.json\n",
      "loading annotations into memory...\n"
     ]
    },
    {
     "name": "stderr",
     "output_type": "stream",
     "text": [
      "\n"
     ]
    },
    {
     "name": "stdout",
     "output_type": "stream",
     "text": [
      "Done (t=12.42s)\n",
      "creating index...\n",
      "index created!\n"
     ]
    },
    {
     "name": "stderr",
     "output_type": "stream",
     "text": [
      "100%|██████████| 40545/40545 [00:01<00:00, 31309.65it/s]\n"
     ]
    }
   ],
   "source": [
    "utils.download_coco_subset(\n",
    "    folder=coco_folder,\n",
    "    labels=useful_labels,\n",
    "    parallel=True,\n",
    "    class_file=class_file,\n",
    ")"
   ]
  },
  {
   "cell_type": "markdown",
   "metadata": {},
   "source": [
    "### Open Images"
   ]
  },
  {
   "cell_type": "code",
   "execution_count": 4,
   "metadata": {},
   "outputs": [],
   "source": [
    "oi_labels = {\n",
    "    \"Apple\": \"apple\",\n",
    "    \"Bagel\": \"bagel\",\n",
    "    \"Baked goods\": \"baked goods\",\n",
    "    \"Banana\": \"banana\",\n",
    "    \"Bell pepper\": \"bell pepper\",\n",
    "    \"Bottle\": \"bottle\",\n",
    "    \"Bowl\": \"bowl\",\n",
    "    \"Bread\": \"bread\",\n",
    "    \"Broccoli\": \"broccoli\",\n",
    "    \"Burrito\": \"burrito\",\n",
    "    \"Cabbage\": \"cabbage\",\n",
    "    \"Cake\": \"cake\",\n",
    "    \"Cantaloupe\": \"cantaloupe\",\n",
    "    \"Carrot\": \"carrot\",\n",
    "    \"Coconut\": \"coconut\",\n",
    "    \"Coffee\": \"coffee\",\n",
    "    \"Coffee cup\": \"coffee cup\",\n",
    "    \"Computer keyboard\": \"keyboard\",\n",
    "    \"Computer monitor\": \"computer monitor\",\n",
    "    \"Computer mouse\": \"mouse\",\n",
    "    \"Cookie\": \"biscuit\",\n",
    "    \"Cream\": \"cream\",\n",
    "    \"Croissant\": \"croissant\",\n",
    "    \"Cucumber\": \"cucumber\",\n",
    "    \"Cutting board\": \"cutting board\",\n",
    "    \"Dairy\": \"dairy\",\n",
    "    \"Dessert\": \"dessert\",\n",
    "    \"Doughnut\": \"donut\",\n",
    "    \"Drink\": \"drink\",\n",
    "    \"Egg\": \"egg\",\n",
    "    \"Fast food\": \"fast food\",\n",
    "    \"Food\": \"food\",\n",
    "    \"Fork\": \"fork\",\n",
    "    \"French fries\": \"french fries\",\n",
    "    \"Fruit\": \"fruit\",\n",
    "    \"Hamburger\": \"hamburger\",\n",
    "    \"Hot dog\": \"hot dog\",\n",
    "    \"Ice cream\": \"ice cream\",\n",
    "    \"Ipod\": \"ipod\",\n",
    "    \"Jug\": \"jug\",\n",
    "    \"Juice\": \"juice\",\n",
    "    \"Kitchen & dining room table\": \"dining table\",\n",
    "    \"Kitchen knife\": \"kitchen knife\",\n",
    "    \"Kitchen utensil\": \"kitchen utensil\",\n",
    "    \"Knife\": \"knife\",\n",
    "    \"Laptop\": \"laptop\",\n",
    "    \"Mango\": \"mango\",\n",
    "    \"Microwave oven\": \"microwave\",\n",
    "    \"Milk\": \"milk\",\n",
    "    \"Mobile phone\": \"cell phone\",\n",
    "    \"Muffin\": \"muffin\",\n",
    "    \"Mug\": \"mug\",\n",
    "    \"Mushroom\": \"mushroom\",\n",
    "    \"Orange\": \"orange\",\n",
    "    \"Oven\": \"oven\",\n",
    "    \"Pancake\": \"pancake\",\n",
    "    \"Pasta\": \"pasta\",\n",
    "    \"Pastry\": \"pastry\",\n",
    "    \"Peach\": \"peach\",\n",
    "    \"Pear\": \"pear\",\n",
    "    \"Pen\": \"pen\",\n",
    "    \"Pineapple\": \"pineapple\",\n",
    "    \"Pitcher\": \"pitcher\",\n",
    "    \"Pizza\": \"pizza\",\n",
    "    \"Plate\": \"plate\",\n",
    "    \"Pomegranate\": \"pomegranate\",\n",
    "    \"Popcorn\": \"popcorn\",\n",
    "    \"Potato\": \"potato\",\n",
    "    \"Pretzel\": \"pretzel\",\n",
    "    \"Pumpkin\": \"pumpkin\",\n",
    "    \"Radish\": \"radish\",\n",
    "    \"Refrigerator\": \"refrigerator\",\n",
    "    \"Remote control\": \"remote\",\n",
    "    \"Salad\": \"salad\",\n",
    "    \"Sandwich\": \"sandwich\",\n",
    "    \"Seafood\": \"seafood\",\n",
    "    \"Shrimp\": \"shrimp\",\n",
    "    \"Sink\": \"sink\",\n",
    "    \"Snack\": \"snack\",\n",
    "    \"Spoon\": \"spoon\",\n",
    "    \"Strawberry\": \"strawberry\",\n",
    "    \"Submarine sandwich\": \"submarine sandwich\",\n",
    "    \"Sushi\": \"sushi\",\n",
    "    \"Tablet computer\": \"tablet\",\n",
    "    \"Taco\": \"taco\",\n",
    "    \"Tart\": \"tart\",\n",
    "    \"Tea\": \"tea\",\n",
    "    \"Television\": \"tv\",\n",
    "    \"Toaster\": \"toaster\",\n",
    "    \"Tomato\": \"tomato\",\n",
    "    \"Vegetable\": \"vegetable\",\n",
    "    \"Waffle\": \"waffle\",\n",
    "    \"Watermelon\": \"watermelon\",\n",
    "    \"Zucchini\": \"zucchini\",\n",
    "}\n"
   ]
  },
  {
   "cell_type": "code",
   "execution_count": 35,
   "metadata": {},
   "outputs": [
    {
     "name": "stdout",
     "output_type": "stream",
     "text": [
      "Making folders\n",
      "getting images (140710)\n"
     ]
    },
    {
     "name": "stderr",
     "output_type": "stream",
     "text": [
      "100%|██████████| 140710/140710 [00:02<00:00, 58945.14it/s]\n"
     ]
    }
   ],
   "source": [
    "utils.download_openimages_subset(\n",
    "    folder=oi_folder, labels_dict=oi_labels, parallel=True, class_file=class_file,core_only=True\n",
    ")"
   ]
  },
  {
   "cell_type": "markdown",
   "metadata": {},
   "source": [
    "### Data Summary"
   ]
  },
  {
   "cell_type": "code",
   "execution_count": 3,
   "metadata": {},
   "outputs": [
    {
     "name": "stderr",
     "output_type": "stream",
     "text": [
      "100%|██████████| 103525/103525 [00:37<00:00, 2775.15it/s]\n",
      "100%|██████████| 103525/103525 [01:10<00:00, 1464.88it/s]\n"
     ]
    }
   ],
   "source": [
    "df = utils.count_instances([coco_labels, snapit_labels, open_labels],class_file,parallel=True)"
   ]
  },
  {
   "cell_type": "code",
   "execution_count": 5,
   "metadata": {},
   "outputs": [
    {
     "data": {
      "text/html": [
       "<div>\n",
       "<style scoped>\n",
       "    .dataframe tbody tr th:only-of-type {\n",
       "        vertical-align: middle;\n",
       "    }\n",
       "\n",
       "    .dataframe tbody tr th {\n",
       "        vertical-align: top;\n",
       "    }\n",
       "\n",
       "    .dataframe thead th {\n",
       "        text-align: right;\n",
       "    }\n",
       "</style>\n",
       "<table border=\"1\" class=\"dataframe\">\n",
       "  <thead>\n",
       "    <tr style=\"text-align: right;\">\n",
       "      <th></th>\n",
       "      <th>label</th>\n",
       "      <th>objects</th>\n",
       "      <th>images</th>\n",
       "    </tr>\n",
       "  </thead>\n",
       "  <tbody>\n",
       "    <tr>\n",
       "      <th>0</th>\n",
       "      <td>book open</td>\n",
       "      <td>34.0</td>\n",
       "      <td>34.0</td>\n",
       "    </tr>\n",
       "    <tr>\n",
       "      <th>1</th>\n",
       "      <td>cell phone</td>\n",
       "      <td>13159.0</td>\n",
       "      <td>9803.0</td>\n",
       "    </tr>\n",
       "    <tr>\n",
       "      <th>2</th>\n",
       "      <td>refrigerator</td>\n",
       "      <td>3436.0</td>\n",
       "      <td>3091.0</td>\n",
       "    </tr>\n",
       "    <tr>\n",
       "      <th>3</th>\n",
       "      <td>microwave</td>\n",
       "      <td>2271.0</td>\n",
       "      <td>2094.0</td>\n",
       "    </tr>\n",
       "    <tr>\n",
       "      <th>4</th>\n",
       "      <td>oven</td>\n",
       "      <td>4166.0</td>\n",
       "      <td>3566.0</td>\n",
       "    </tr>\n",
       "    <tr>\n",
       "      <th>5</th>\n",
       "      <td>bottle</td>\n",
       "      <td>63503.0</td>\n",
       "      <td>20448.0</td>\n",
       "    </tr>\n",
       "    <tr>\n",
       "      <th>6</th>\n",
       "      <td>fork</td>\n",
       "      <td>7459.0</td>\n",
       "      <td>4851.0</td>\n",
       "    </tr>\n",
       "    <tr>\n",
       "      <th>7</th>\n",
       "      <td>knife</td>\n",
       "      <td>9205.0</td>\n",
       "      <td>5314.0</td>\n",
       "    </tr>\n",
       "    <tr>\n",
       "      <th>8</th>\n",
       "      <td>spoon</td>\n",
       "      <td>8123.0</td>\n",
       "      <td>4772.0</td>\n",
       "    </tr>\n",
       "    <tr>\n",
       "      <th>9</th>\n",
       "      <td>glass</td>\n",
       "      <td>63.0</td>\n",
       "      <td>52.0</td>\n",
       "    </tr>\n",
       "    <tr>\n",
       "      <th>10</th>\n",
       "      <td>cup</td>\n",
       "      <td>21470.0</td>\n",
       "      <td>9580.0</td>\n",
       "    </tr>\n",
       "    <tr>\n",
       "      <th>11</th>\n",
       "      <td>drink can</td>\n",
       "      <td>0.0</td>\n",
       "      <td>0.0</td>\n",
       "    </tr>\n",
       "    <tr>\n",
       "      <th>12</th>\n",
       "      <td>takeaway cup</td>\n",
       "      <td>0.0</td>\n",
       "      <td>0.0</td>\n",
       "    </tr>\n",
       "    <tr>\n",
       "      <th>13</th>\n",
       "      <td>plate</td>\n",
       "      <td>5342.0</td>\n",
       "      <td>2133.0</td>\n",
       "    </tr>\n",
       "    <tr>\n",
       "      <th>14</th>\n",
       "      <td>bowl</td>\n",
       "      <td>19531.0</td>\n",
       "      <td>9022.0</td>\n",
       "    </tr>\n",
       "    <tr>\n",
       "      <th>15</th>\n",
       "      <td>fruit</td>\n",
       "      <td>23160.0</td>\n",
       "      <td>5435.0</td>\n",
       "    </tr>\n",
       "    <tr>\n",
       "      <th>16</th>\n",
       "      <td>vegetable</td>\n",
       "      <td>11302.0</td>\n",
       "      <td>3608.0</td>\n",
       "    </tr>\n",
       "    <tr>\n",
       "      <th>17</th>\n",
       "      <td>food packet</td>\n",
       "      <td>45.0</td>\n",
       "      <td>8.0</td>\n",
       "    </tr>\n",
       "    <tr>\n",
       "      <th>18</th>\n",
       "      <td>lunch box</td>\n",
       "      <td>0.0</td>\n",
       "      <td>0.0</td>\n",
       "    </tr>\n",
       "    <tr>\n",
       "      <th>19</th>\n",
       "      <td>dining table</td>\n",
       "      <td>18763.0</td>\n",
       "      <td>14425.0</td>\n",
       "    </tr>\n",
       "    <tr>\n",
       "      <th>20</th>\n",
       "      <td>tv</td>\n",
       "      <td>10145.0</td>\n",
       "      <td>7840.0</td>\n",
       "    </tr>\n",
       "    <tr>\n",
       "      <th>21</th>\n",
       "      <td>computer monitor</td>\n",
       "      <td>6259.0</td>\n",
       "      <td>3470.0</td>\n",
       "    </tr>\n",
       "    <tr>\n",
       "      <th>22</th>\n",
       "      <td>laptop</td>\n",
       "      <td>14725.0</td>\n",
       "      <td>9447.0</td>\n",
       "    </tr>\n",
       "    <tr>\n",
       "      <th>23</th>\n",
       "      <td>mouse</td>\n",
       "      <td>3174.0</td>\n",
       "      <td>2653.0</td>\n",
       "    </tr>\n",
       "    <tr>\n",
       "      <th>24</th>\n",
       "      <td>remote</td>\n",
       "      <td>6247.0</td>\n",
       "      <td>3436.0</td>\n",
       "    </tr>\n",
       "    <tr>\n",
       "      <th>25</th>\n",
       "      <td>keyboard</td>\n",
       "      <td>7666.0</td>\n",
       "      <td>5698.0</td>\n",
       "    </tr>\n",
       "    <tr>\n",
       "      <th>26</th>\n",
       "      <td>game console</td>\n",
       "      <td>40.0</td>\n",
       "      <td>40.0</td>\n",
       "    </tr>\n",
       "    <tr>\n",
       "      <th>27</th>\n",
       "      <td>game controller</td>\n",
       "      <td>1.0</td>\n",
       "      <td>1.0</td>\n",
       "    </tr>\n",
       "    <tr>\n",
       "      <th>28</th>\n",
       "      <td>toaster</td>\n",
       "      <td>293.0</td>\n",
       "      <td>277.0</td>\n",
       "    </tr>\n",
       "    <tr>\n",
       "      <th>29</th>\n",
       "      <td>sink</td>\n",
       "      <td>7643.0</td>\n",
       "      <td>6450.0</td>\n",
       "    </tr>\n",
       "    <tr>\n",
       "      <th>30</th>\n",
       "      <td>banana</td>\n",
       "      <td>10750.0</td>\n",
       "      <td>3024.0</td>\n",
       "    </tr>\n",
       "    <tr>\n",
       "      <th>31</th>\n",
       "      <td>apple</td>\n",
       "      <td>9107.0</td>\n",
       "      <td>2691.0</td>\n",
       "    </tr>\n",
       "    <tr>\n",
       "      <th>32</th>\n",
       "      <td>sandwich</td>\n",
       "      <td>5909.0</td>\n",
       "      <td>3398.0</td>\n",
       "    </tr>\n",
       "    <tr>\n",
       "      <th>33</th>\n",
       "      <td>orange</td>\n",
       "      <td>13474.0</td>\n",
       "      <td>2786.0</td>\n",
       "    </tr>\n",
       "    <tr>\n",
       "      <th>34</th>\n",
       "      <td>broccoli</td>\n",
       "      <td>8585.0</td>\n",
       "      <td>2376.0</td>\n",
       "    </tr>\n",
       "    <tr>\n",
       "      <th>35</th>\n",
       "      <td>carrot</td>\n",
       "      <td>9330.0</td>\n",
       "      <td>2341.0</td>\n",
       "    </tr>\n",
       "    <tr>\n",
       "      <th>36</th>\n",
       "      <td>hot dog</td>\n",
       "      <td>3478.0</td>\n",
       "      <td>1643.0</td>\n",
       "    </tr>\n",
       "    <tr>\n",
       "      <th>37</th>\n",
       "      <td>pizza</td>\n",
       "      <td>8286.0</td>\n",
       "      <td>4760.0</td>\n",
       "    </tr>\n",
       "    <tr>\n",
       "      <th>38</th>\n",
       "      <td>donut</td>\n",
       "      <td>8064.0</td>\n",
       "      <td>1878.0</td>\n",
       "    </tr>\n",
       "    <tr>\n",
       "      <th>39</th>\n",
       "      <td>cake</td>\n",
       "      <td>13047.0</td>\n",
       "      <td>7226.0</td>\n",
       "    </tr>\n",
       "    <tr>\n",
       "      <th>40</th>\n",
       "      <td>biscuit</td>\n",
       "      <td>3632.0</td>\n",
       "      <td>680.0</td>\n",
       "    </tr>\n",
       "    <tr>\n",
       "      <th>41</th>\n",
       "      <td>chips</td>\n",
       "      <td>1.0</td>\n",
       "      <td>1.0</td>\n",
       "    </tr>\n",
       "    <tr>\n",
       "      <th>42</th>\n",
       "      <td>tablet</td>\n",
       "      <td>1013.0</td>\n",
       "      <td>846.0</td>\n",
       "    </tr>\n",
       "    <tr>\n",
       "      <th>43</th>\n",
       "      <td>baking tray</td>\n",
       "      <td>9.0</td>\n",
       "      <td>6.0</td>\n",
       "    </tr>\n",
       "    <tr>\n",
       "      <th>44</th>\n",
       "      <td>pen</td>\n",
       "      <td>1711.0</td>\n",
       "      <td>1067.0</td>\n",
       "    </tr>\n",
       "  </tbody>\n",
       "</table>\n",
       "</div>"
      ],
      "text/plain": [
       "               label  objects   images\n",
       "0          book open     34.0     34.0\n",
       "1         cell phone  13159.0   9803.0\n",
       "2       refrigerator   3436.0   3091.0\n",
       "3          microwave   2271.0   2094.0\n",
       "4               oven   4166.0   3566.0\n",
       "5             bottle  63503.0  20448.0\n",
       "6               fork   7459.0   4851.0\n",
       "7              knife   9205.0   5314.0\n",
       "8              spoon   8123.0   4772.0\n",
       "9              glass     63.0     52.0\n",
       "10               cup  21470.0   9580.0\n",
       "11         drink can      0.0      0.0\n",
       "12      takeaway cup      0.0      0.0\n",
       "13             plate   5342.0   2133.0\n",
       "14              bowl  19531.0   9022.0\n",
       "15             fruit  23160.0   5435.0\n",
       "16         vegetable  11302.0   3608.0\n",
       "17       food packet     45.0      8.0\n",
       "18         lunch box      0.0      0.0\n",
       "19      dining table  18763.0  14425.0\n",
       "20                tv  10145.0   7840.0\n",
       "21  computer monitor   6259.0   3470.0\n",
       "22            laptop  14725.0   9447.0\n",
       "23             mouse   3174.0   2653.0\n",
       "24            remote   6247.0   3436.0\n",
       "25          keyboard   7666.0   5698.0\n",
       "26      game console     40.0     40.0\n",
       "27   game controller      1.0      1.0\n",
       "28           toaster    293.0    277.0\n",
       "29              sink   7643.0   6450.0\n",
       "30            banana  10750.0   3024.0\n",
       "31             apple   9107.0   2691.0\n",
       "32          sandwich   5909.0   3398.0\n",
       "33            orange  13474.0   2786.0\n",
       "34          broccoli   8585.0   2376.0\n",
       "35            carrot   9330.0   2341.0\n",
       "36           hot dog   3478.0   1643.0\n",
       "37             pizza   8286.0   4760.0\n",
       "38             donut   8064.0   1878.0\n",
       "39              cake  13047.0   7226.0\n",
       "40           biscuit   3632.0    680.0\n",
       "41             chips      1.0      1.0\n",
       "42            tablet   1013.0    846.0\n",
       "43       baking tray      9.0      6.0\n",
       "44               pen   1711.0   1067.0"
      ]
     },
     "execution_count": 5,
     "metadata": {},
     "output_type": "execute_result"
    }
   ],
   "source": [
    "df"
   ]
  },
  {
   "cell_type": "code",
   "execution_count": 4,
   "metadata": {},
   "outputs": [
    {
     "data": {
      "text/plain": [
       "<AxesSubplot:xlabel='label'>"
      ]
     },
     "execution_count": 4,
     "metadata": {},
     "output_type": "execute_result"
    },
    {
     "data": {
      "image/png": "[encoded data removed]",
      "text/plain": [
       "<Figure size 1440x864 with 1 Axes>"
      ]
     },
     "metadata": {
      "needs_background": "light"
     },
     "output_type": "display_data"
    }
   ],
   "source": [
    "df.plot(kind=\"bar\", x=\"label\",figsize=(20,12))"
   ]
  },
  {
   "cell_type": "code",
   "execution_count": 180,
   "metadata": {},
   "outputs": [
    {
     "data": {
      "text/plain": [
       "<module 'utils' from '/Users/tasanders/GitHub/SquareEyes/notebooks/utils.py'>"
      ]
     },
     "execution_count": 180,
     "metadata": {},
     "output_type": "execute_result"
    }
   ],
   "source": [
    "# TODO\n",
    "# Combine the manually labelled and the COCO datasets\n",
    "importlib.reload(utils)"
   ]
  },
  {
   "cell_type": "code",
   "execution_count": 181,
   "metadata": {},
   "outputs": [
    {
     "name": "stderr",
     "output_type": "stream",
     "text": [
      "100%|██████████| 42301/42301 [00:05<00:00, 7155.46it/s]\n",
      "100%|██████████| 851/851 [00:07<00:00, 107.31it/s]\n",
      "100%|██████████| 60372/60372 [00:08<00:00, 7161.14it/s]\n"
     ]
    }
   ],
   "source": [
    "df = utils.prep_dataset(\n",
    "    class_file=class_file,\n",
    "    coco_labels_folder=coco_labels,\n",
    "    snapit_labels_folder=snapit_labels,\n",
    "    oi_labels_folder=open_labels,\n",
    ")"
   ]
  },
  {
   "cell_type": "code",
   "execution_count": 207,
   "metadata": {},
   "outputs": [],
   "source": [
    "class_nums = list(reversed(df[\"class_id\"].value_counts().index))"
   ]
  },
  {
   "cell_type": "code",
   "execution_count": 208,
   "metadata": {},
   "outputs": [
    {
     "data": {
      "text/plain": [
       "[8,\n",
       " 21,\n",
       " 34,\n",
       " 35,\n",
       " 2,\n",
       " 18,\n",
       " 1,\n",
       " 29,\n",
       " 33,\n",
       " 3,\n",
       " 10,\n",
       " 25,\n",
       " 19,\n",
       " 16,\n",
       " 5,\n",
       " 22,\n",
       " 20,\n",
       " 31,\n",
       " 7,\n",
       " 30,\n",
       " 27,\n",
       " 24,\n",
       " 6,\n",
       " 28,\n",
       " 15,\n",
       " 23,\n",
       " 13,\n",
       " 32,\n",
       " 0,\n",
       " 26,\n",
       " 17,\n",
       " 14,\n",
       " 11,\n",
       " 9,\n",
       " 12,\n",
       " 4]"
      ]
     },
     "execution_count": 208,
     "metadata": {},
     "output_type": "execute_result"
    }
   ],
   "source": [
    "class_nums"
   ]
  },
  {
   "cell_type": "code",
   "execution_count": 222,
   "metadata": {},
   "outputs": [],
   "source": [
    "from sklearn.model_selection import StratifiedShuffleSplit, StratifiedKFold"
   ]
  },
  {
   "cell_type": "code",
   "execution_count": 224,
   "metadata": {},
   "outputs": [],
   "source": [
    "sss = StratifiedShuffleSplit(1, test_size=0.25, random_state=0)"
   ]
  },
  {
   "cell_type": "code",
   "execution_count": 225,
   "metadata": {},
   "outputs": [
    {
     "data": {
      "text/plain": [
       "1"
      ]
     },
     "execution_count": 225,
     "metadata": {},
     "output_type": "execute_result"
    }
   ],
   "source": [
    "sss.get_n_splits(df[\"file\"])"
   ]
  },
  {
   "cell_type": "code",
   "execution_count": 229,
   "metadata": {},
   "outputs": [
    {
     "name": "stdout",
     "output_type": "stream",
     "text": [
      "[124386 157937 292612 ...  39486  31580 199228]\n"
     ]
    }
   ],
   "source": [
    "for train_index, test_index in sss.split(df[\"class_id\"],df[\"class_id\"]):\n",
    "    print(train_index)"
   ]
  },
  {
   "cell_type": "code",
   "execution_count": 202,
   "metadata": {},
   "outputs": [],
   "source": [
    "df[\"set\"] = np.NaN"
   ]
  },
  {
   "cell_type": "code",
   "execution_count": 215,
   "metadata": {},
   "outputs": [],
   "source": [
    "df.reset_index(inplace=True, drop=True)"
   ]
  },
  {
   "cell_type": "code",
   "execution_count": 231,
   "metadata": {},
   "outputs": [],
   "source": [
    "df_idx = df.loc[(df[\"class_id\"] == class_nums[0])&(df[\"set\"].isna())].index"
   ]
  },
  {
   "cell_type": "code",
   "execution_count": 235,
   "metadata": {},
   "outputs": [
    {
     "data": {
      "text/plain": [
       "0     390\n",
       "15    224\n",
       "8      63\n",
       "14     57\n",
       "34     57\n",
       "20     31\n",
       "11     24\n",
       "10     19\n",
       "22     15\n",
       "6      14\n",
       "19     12\n",
       "1      11\n",
       "4      10\n",
       "3      10\n",
       "7       9\n",
       "27      8\n",
       "2       7\n",
       "12      7\n",
       "18      7\n",
       "5       3\n",
       "17      3\n",
       "33      3\n",
       "21      2\n",
       "35      2\n",
       "9       1\n",
       "Name: class_id, dtype: int64"
      ]
     },
     "execution_count": 235,
     "metadata": {},
     "output_type": "execute_result"
    }
   ],
   "source": [
    "df[df[\"source\"]==\"snapit\"][\"class_id\"].value_counts()"
   ]
  },
  {
   "cell_type": "code",
   "execution_count": null,
   "metadata": {},
   "outputs": [],
   "source": []
  },
  {
   "cell_type": "code",
   "execution_count": 189,
   "metadata": {},
   "outputs": [
    {
     "data": {
      "text/plain": [
       "Int64Index([ 4, 12,  9, 11, 14, 17, 26,  0, 32, 13, 23, 15, 28,  6, 24, 27, 30,\n",
       "             7, 31, 20, 22,  5, 16, 19, 25, 10,  3, 33, 29,  1, 18,  2, 35, 34,\n",
       "            21,  8],\n",
       "           dtype='int64')"
      ]
     },
     "execution_count": 189,
     "metadata": {},
     "output_type": "execute_result"
    }
   ],
   "source": [
    "df[\"class_id\"].value_counts().index"
   ]
  },
  {
   "cell_type": "code",
   "execution_count": 130,
   "metadata": {},
   "outputs": [],
   "source": [
    "df_valcnt = df[\"class_id\"].value_counts()\n",
    "df_valcnt = sorted(list(df_valcnt[df_valcnt<100].index),reverse=True)"
   ]
  },
  {
   "cell_type": "code",
   "execution_count": 133,
   "metadata": {},
   "outputs": [],
   "source": [
    "with open(class_file, \"r\") as f:\n",
    "    classes = f.read().split(\"\\n\")"
   ]
  },
  {
   "cell_type": "code",
   "execution_count": 178,
   "metadata": {},
   "outputs": [
    {
     "name": "stdout",
     "output_type": "stream",
     "text": [
      "9\n",
      "8\n",
      "7\n",
      "6\n",
      "5\n",
      "4\n",
      "3\n",
      "2\n",
      "1\n",
      "0\n"
     ]
    }
   ],
   "source": [
    "test_list = list(\"ABCDEFHIJK\")\n",
    "for x in range(len(test_list)-1,-1,-1):\n",
    "    del test_list[x]\n",
    "    print(x)"
   ]
  },
  {
   "cell_type": "code",
   "execution_count": 179,
   "metadata": {},
   "outputs": [
    {
     "data": {
      "text/plain": [
       "[]"
      ]
     },
     "execution_count": 179,
     "metadata": {},
     "output_type": "execute_result"
    }
   ],
   "source": [
    "test_list"
   ]
  },
  {
   "cell_type": "code",
   "execution_count": 167,
   "metadata": {},
   "outputs": [
    {
     "name": "stdout",
     "output_type": "stream",
     "text": [
      "43\n",
      "42\n",
      "41\n",
      "40\n",
      "39\n",
      "38\n",
      "37\n",
      "36\n",
      "35\n",
      "34\n",
      "33\n",
      "32\n",
      "31\n",
      "30\n",
      "29\n",
      "28\n",
      "27\n",
      "26\n",
      "25\n",
      "24\n",
      "23\n",
      "22\n",
      "21\n",
      "20\n",
      "19\n",
      "18\n",
      "17\n",
      "16\n",
      "15\n",
      "14\n",
      "13\n",
      "12\n",
      "11\n",
      "10\n",
      "9\n",
      "8\n",
      "7\n",
      "6\n",
      "5\n",
      "4\n",
      "3\n",
      "2\n",
      "1\n",
      "0\n"
     ]
    }
   ],
   "source": [
    "for i in range(len(classes)-1,-1,-1):\n",
    "    print(i)"
   ]
  },
  {
   "cell_type": "code",
   "execution_count": 153,
   "metadata": {},
   "outputs": [
    {
     "data": {
      "text/plain": [
       "[0,\n",
       " 1,\n",
       " 2,\n",
       " 3,\n",
       " 4,\n",
       " 5,\n",
       " 6,\n",
       " 7,\n",
       " 8,\n",
       " 9,\n",
       " 10,\n",
       " 13,\n",
       " 14,\n",
       " 15,\n",
       " 16,\n",
       " 17,\n",
       " 19,\n",
       " 20,\n",
       " 21,\n",
       " 22,\n",
       " 23,\n",
       " 24,\n",
       " 25,\n",
       " 26,\n",
       " 27,\n",
       " 28,\n",
       " 29,\n",
       " 30,\n",
       " 31,\n",
       " 32,\n",
       " 33,\n",
       " 34,\n",
       " 35,\n",
       " 36,\n",
       " 37,\n",
       " 38,\n",
       " 39,\n",
       " 40,\n",
       " 41,\n",
       " 42]"
      ]
     },
     "execution_count": 153,
     "metadata": {},
     "output_type": "execute_result"
    }
   ],
   "source": [
    "sorted(df[\"class_id\"].unique())"
   ]
  },
  {
   "cell_type": "code",
   "execution_count": 151,
   "metadata": {},
   "outputs": [],
   "source": [
    "df[\"class_id\"] = df[\"class_id\"].apply(lambda x: x-1 if x>df_valcnt[4] else x)"
   ]
  },
  {
   "cell_type": "markdown",
   "metadata": {},
   "source": [
    "### Create Training Split\n",
    "We could normally just define a random split. But, we want to avoid a couple of potential issues. So, our training split should be random but follow some rules:\n",
    "1. COCO images should be training and testing only, but shouldn't be included in the validation set.\n",
    "2. Similiarly, if a participant is in the training set, they should not be in the validation set. Many images end up being far too similar, and we risk not really understanding how the model will perform on 'unseen' data."
   ]
  },
  {
   "cell_type": "code",
   "execution_count": null,
   "metadata": {},
   "outputs": [],
   "source": [
    "# TODO\n",
    "# Create training/testing/validation sets"
   ]
  },
  {
   "cell_type": "markdown",
   "metadata": {},
   "source": [
    "## Retrain the Model"
   ]
  },
  {
   "cell_type": "code",
   "execution_count": null,
   "metadata": {},
   "outputs": [],
   "source": [
    "# TODO\n",
    "# Retrain model and save new model weights"
   ]
  },
  {
   "cell_type": "markdown",
   "metadata": {},
   "source": [
    "## Evaluate the Model"
   ]
  },
  {
   "cell_type": "code",
   "execution_count": null,
   "metadata": {},
   "outputs": [],
   "source": [
    "# TODO\n",
    "# Evaluate the model on labelled data."
   ]
  }
 ],
 "metadata": {
  "kernelspec": {
   "display_name": "Python 3",
   "language": "python",
   "name": "python3"
  },
  "language_info": {
   "codemirror_mode": {
    "name": "ipython",
    "version": 3
   },
   "file_extension": ".py",
   "mimetype": "text/x-python",
   "name": "python",
   "nbconvert_exporter": "python",
   "pygments_lexer": "ipython3",
   "version": "3.7.8"
  }
 },
 "nbformat": 4,
 "nbformat_minor": 4
}
