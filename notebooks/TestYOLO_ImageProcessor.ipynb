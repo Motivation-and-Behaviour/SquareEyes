{
 "cells": [
  {
   "cell_type": "markdown",
   "metadata": {},
   "source": [
    "# Step One: Use Existing Labels"
   ]
  },
  {
   "cell_type": "code",
   "execution_count": 1,
   "metadata": {},
   "outputs": [],
   "source": [
    "import glob as glob\n",
    "import os\n",
    "from pathlib import Path\n",
    "\n",
    "import cv2\n",
    "import numpy as np\n",
    "import pandas as pd\n",
    "from sklearn.metrics import (\n",
    "    classification_report,\n",
    "    cohen_kappa_score,\n",
    "    confusion_matrix,\n",
    "    roc_auc_score,\n",
    ")\n",
    "\n",
    "import image_processor"
   ]
  },
  {
   "cell_type": "code",
   "execution_count": 2,
   "metadata": {},
   "outputs": [],
   "source": [
    "useful_labels = [\n",
    "    \"bottle\",\n",
    "    \"fork\",\n",
    "    \"knife\",\n",
    "    \"spoon\",\n",
    "    \"bowl\",\n",
    "    \"banana\",\n",
    "    \"apple\",\n",
    "    \"sandwich\",\n",
    "    \"orange\",\n",
    "    \"broccoli\",\n",
    "    \"carrot\",\n",
    "    \"hot dog\",\n",
    "    \"pizza\",\n",
    "    \"donut\",\n",
    "    \"cake\",\n",
    "    \"diningtable\",\n",
    "    \"tvmonitor\",\n",
    "    \"laptop\",\n",
    "    \"mouse\",\n",
    "    \"remote\",\n",
    "    \"keyboard\",\n",
    "    \"cell phone\",\n",
    "    \"microwave\",\n",
    "    \"oven\",\n",
    "    \"toaster\",\n",
    "    \"sink\",\n",
    "    \"refrigerator\",\n",
    "    \"book\",\n",
    "]"
   ]
  },
  {
   "cell_type": "code",
   "execution_count": 3,
   "metadata": {},
   "outputs": [],
   "source": [
    "processor_v3 = image_processor.ImageProcessor(\n",
    "    labels_path=r\"/Users/tasanders/Google Drive/Square Eyes (DP20)/Data collection and management/Image Blurring Test/Yolo/coco.names\",\n",
    "    config_path=r\"/Users/tasanders/Google Drive/Square Eyes (DP20)/Data collection and management/Image Blurring Test/Yolo/yolov3.cfg\",\n",
    "    weights_path=r\"/Users/tasanders/Google Drive/Square Eyes (DP20)/Data collection and management/Image Blurring Test/Yolo/yolov3.weights\",\n",
    "    useful_labels=useful_labels,\n",
    "    image_folder=\"/Users/tasanders/Documents/face_phil\",\n",
    "    training_out=\"/Users/tasanders/Documents/face_phil\",\n",
    "    annotimage_out=\"/Users/tasanders/Documents/face_phil\",\n",
    "    yolo_version = \"3\"\n",
    ")\n",
    "\n",
    "# processor_v4 = image_processor.ImageProcessor(\n",
    "#     labels_path=r\"/Volumes/M&B/Screen_Time_Measure_Development/SNAP_IT/YOLO_Training/cfg/coco.names\",\n",
    "#     config_path=r\"/Volumes/M&B/Screen_Time_Measure_Development/SNAP_IT/YOLO_Training/cfg/yolov4.cfg\",\n",
    "#     weights_path=r\"/Volumes/M&B/Screen_Time_Measure_Development/SNAP_IT/YOLO_Training/cfg/yolov4.weights\",\n",
    "#     useful_labels=useful_labels,\n",
    "#     image_folder=\"Z:\\Screen_Time_Measure_Development\\SNAP_IT\\YOLO_Training\\Training_Images_V4\",\n",
    "#     training_out=\"Z:\\Screen_Time_Measure_Development\\SNAP_IT\\YOLO_Training\\Training_Images_V4\",\n",
    "#     annotimage_out=\"Z:\\Screen_Time_Measure_Development\\SNAP_IT\\YOLO_Training\\Annot_Images_V4\",\n",
    "#     yolo_version = \"4\"\n",
    "# )"
   ]
  },
  {
   "cell_type": "code",
   "execution_count": 4,
   "metadata": {},
   "outputs": [
    {
     "name": "stderr",
     "output_type": "stream",
     "text": [
      "Working on file: CC4B73632D38_2021_0209_151904_905_0050.jpg: 100%|██████████| 16/16 [00:08<00:00,  1.81it/s]"
     ]
    },
    {
     "name": "stdout",
     "output_type": "stream",
     "text": [
      "CPU times: user 39.7 s, sys: 2.5 s, total: 42.2 s\n",
      "Wall time: 8.84 s\n"
     ]
    },
    {
     "name": "stderr",
     "output_type": "stream",
     "text": [
      "\n"
     ]
    }
   ],
   "source": [
    "%%time\n",
    "processor_v3.run_folder(parallel=False)"
   ]
  },
  {
   "cell_type": "code",
   "execution_count": 11,
   "metadata": {},
   "outputs": [
    {
     "name": "stdout",
     "output_type": "stream",
     "text": [
      "Wall time: 1h 43s\n"
     ]
    }
   ],
   "source": [
    "%%time\n",
    "processor_v4.run_folder(parallel=True)"
   ]
  },
  {
   "cell_type": "code",
   "execution_count": 18,
   "metadata": {},
   "outputs": [],
   "source": [
    "np.savetxt(\"Z:\\Screen_Time_Measure_Development\\SNAP_IT\\YOLO_Training\\Training_Images_V3\\classes.txt\", \n",
    "           useful_labels, \n",
    "           fmt=\"%s\")\n",
    "np.savetxt(\"Z:\\Screen_Time_Measure_Development\\SNAP_IT\\YOLO_Training\\Training_Images_V4\\classes.txt\", \n",
    "           useful_labels, \n",
    "           fmt=\"%s\")"
   ]
  },
  {
   "cell_type": "markdown",
   "metadata": {},
   "source": [
    "##  Test against Bridget's coding"
   ]
  },
  {
   "cell_type": "code",
   "execution_count": null,
   "metadata": {},
   "outputs": [],
   "source": [
    "%%time\n",
    "coded_data = pd.read_csv(\n",
    "    \"/Volumes/M&B/Screen_Time_Measure_Development/SNAP_IT/Coding Framework Test Images/Screen Time Coding Data - Device.csv\"\n",
    ")\n",
    "folder = (\n",
    "    \"/Volumes/M&B/Screen_Time_Measure_Development/SNAP_IT/Coding Framework Test Images\"\n",
    ")\n",
    "df = predict_and_save(folder, coded_data)"
   ]
  },
  {
   "cell_type": "code",
   "execution_count": null,
   "metadata": {},
   "outputs": [],
   "source": [
    "df_backup = df.copy()\n",
    "df.to_csv(\n",
    "    \"/Volumes/M&B/Screen_Time_Measure_Development/SNAP_IT/Coding Framework Test Images/YOLO.csv\",\n",
    "    index=False,\n",
    ")"
   ]
  },
  {
   "cell_type": "code",
   "execution_count": null,
   "metadata": {},
   "outputs": [],
   "source": [
    "cat_maybe = [\n",
    "    \"mouse\",\n",
    "    \"remote\",\n",
    "    \"keyboard\",\n",
    "]\n",
    "\n",
    "cat_def = [\n",
    "    \"tvmonitor\",\n",
    "    \"laptop\",\n",
    "    \"cell phone\",\n",
    "]"
   ]
  },
  {
   "cell_type": "code",
   "execution_count": null,
   "metadata": {},
   "outputs": [],
   "source": [
    "df[\"screen_def\"] = np.where(df[\"prediction\"].isin(cat_def), 1, 0)\n",
    "df[\"screen_maybe\"] = np.where(df[\"prediction\"].isin(cat_def + cat_maybe), 1, 0)"
   ]
  },
  {
   "cell_type": "code",
   "execution_count": null,
   "metadata": {},
   "outputs": [],
   "source": [
    "def conf_def(df, confthresh):\n",
    "    if df[\"confidence\"] > confthresh and df[\"screen_def\"] == 1:\n",
    "        return 1\n",
    "    else:\n",
    "        return 0\n",
    "\n",
    "\n",
    "def conf_maybe(df, confthresh):\n",
    "    if df[\"confidence\"] > confthresh and df[\"screen_maybe\"] == 1:\n",
    "        return 1\n",
    "    else:\n",
    "        return 0"
   ]
  },
  {
   "cell_type": "code",
   "execution_count": null,
   "metadata": {},
   "outputs": [],
   "source": [
    "for x in np.arange(0.2, 0.51, 0.05):\n",
    "    df[\"screen_def_\" + str(x)] = df.apply(conf_def, confthresh=x, axis=1)\n",
    "    df[\"screen_maybe_\" + str(x)] = df.apply(conf_maybe, confthresh=x, axis=1)"
   ]
  },
  {
   "cell_type": "code",
   "execution_count": null,
   "metadata": {},
   "outputs": [],
   "source": [
    "df = df.merge(coded_data, left_on=\"image\", right_on=\"filename\")\n",
    "df.drop(columns=\"filename\", inplace=True)\n",
    "df[[\"device\", \"device_excl_bkg\"]] = df[[\"device\", \"device_excl_bkg\"]].astype(int)\n",
    "df = df.drop(columns=[\"prediction\", \"confidence\", \"id\"]).groupby([\"image\"]).any()"
   ]
  },
  {
   "cell_type": "code",
   "execution_count": null,
   "metadata": {},
   "outputs": [],
   "source": [
    "df.columns"
   ]
  },
  {
   "cell_type": "code",
   "execution_count": null,
   "metadata": {},
   "outputs": [],
   "source": [
    "true_devices = [\"device\", \"device_excl_bkg\"]\n",
    "predicted_devices = df.drop(\n",
    "    columns=[\"device\", \"device_excl_bkg\", \"screen_def\", \"screen_maybe\",]\n",
    ")"
   ]
  },
  {
   "cell_type": "code",
   "execution_count": null,
   "metadata": {},
   "outputs": [],
   "source": [
    "for true_device in true_devices:\n",
    "    for predicted_device in predicted_devices:\n",
    "        print(f\"Comparing: {true_device} & {predicted_device}\")\n",
    "        print(classification_report(df[true_device], df[predicted_device]))"
   ]
  },
  {
   "cell_type": "code",
   "execution_count": null,
   "metadata": {},
   "outputs": [],
   "source": [
    "print(f\"Comparing: device & screen_maybe_0.3\")\n",
    "print(classification_report(df[\"device\"], df[\"screen_maybe_0.3\"]))\n",
    "print(f\"AUC: {roc_auc_score(df['device'], df['screen_maybe_0.3'])}\")\n",
    "print(f\"Comparing: device_excl_bkg & screen_maybe_0.3\")\n",
    "print(classification_report(df[\"device_excl_bkg\"], df[\"screen_maybe_0.3\"]))\n",
    "print(cohen_kappa_score(df[\"device_excl_bkg\"], df[\"screen_maybe_0.3\"]))\n",
    "print(f\"AUC: {roc_auc_score(df['device_excl_bkg'], df['screen_maybe_0.3'])}\")\n",
    "print(f\"Comparing: device & screen_maybe_0.2\")\n",
    "print(classification_report(df[\"device\"], df[\"screen_maybe_0.2\"]))\n",
    "print(f\"AUC: {roc_auc_score(df['device'], df['screen_maybe_0.2'])}\")\n",
    "print(f\"Comparing: device_excl_bkg & screen_maybe_0.2\")\n",
    "print(classification_report(df[\"device\"], df[\"screen_maybe_0.2\"]))\n",
    "print(f\"AUC: {roc_auc_score(df['device'], df['screen_maybe_0.2'])}\")"
   ]
  },
  {
   "cell_type": "code",
   "execution_count": null,
   "metadata": {},
   "outputs": [],
   "source": []
  }
 ],
 "metadata": {
  "kernelspec": {
   "display_name": "Python 3",
   "language": "python",
   "name": "python3"
  },
  "language_info": {
   "codemirror_mode": {
    "name": "ipython",
    "version": 3
   },
   "file_extension": ".py",
   "mimetype": "text/x-python",
   "name": "python",
   "nbconvert_exporter": "python",
   "pygments_lexer": "ipython3",
   "version": "3.7.8"
  }
 },
 "nbformat": 4,
 "nbformat_minor": 4
}
