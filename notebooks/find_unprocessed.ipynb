{
 "cells": [
  {
   "cell_type": "code",
   "execution_count": null,
   "metadata": {},
   "outputs": [
    {
     "data": {
      "text/plain": [
       "['../config.ini']"
      ]
     },
     "execution_count": 16,
     "metadata": {},
     "output_type": "execute_result"
    }
   ],
   "source": [
    "import csv\n",
    "import configparser\n",
    "import os\n",
    "from tqdm import tqdm\n",
    "\n",
    "config = configparser.ConfigParser()\n",
    "config.read(\"../config.ini\")"
   ]
  },
  {
   "cell_type": "code",
   "execution_count": 9,
   "metadata": {},
   "outputs": [],
   "source": [
    "base_dir = config[\"DEFAULT\"][\"folder_prefix\"]\n",
    "\n",
    "participants = [\n",
    "    id\n",
    "    for id in os.listdir(base_dir)\n",
    "    if id != \"Practice Data\" and os.path.isdir(os.path.join(base_dir, id))\n",
    "]"
   ]
  },
  {
   "cell_type": "code",
   "execution_count": 13,
   "metadata": {},
   "outputs": [
    {
     "name": "stderr",
     "output_type": "stream",
     "text": [
      "Searching participants: 100%|██████████| 124/124 [00:51<00:00,  2.41it/s]\n"
     ]
    }
   ],
   "source": [
    "unprocessed = []\n",
    "\n",
    "for participant_id in tqdm(participants, desc=\"Searching participants\"):\n",
    "    participant_path = os.path.join(base_dir, participant_id)\n",
    "    for timepoint in os.listdir(participant_path):\n",
    "        timepoint_path = os.path.join(participant_path, timepoint, \"Images\")\n",
    "        converted_file = os.path.join(timepoint_path, \".converted\")\n",
    "        images_folder = os.path.join(timepoint_path, \"images\")\n",
    "\n",
    "        # Check conditions for processing\n",
    "        needs_processing = (\n",
    "            os.path.isdir(timepoint_path)\n",
    "            and not os.path.exists(converted_file)\n",
    "            and os.path.isdir(images_folder)\n",
    "            and os.listdir(images_folder)\n",
    "        )\n",
    "\n",
    "        if needs_processing:\n",
    "            unprocessed.append(\n",
    "                {\n",
    "                    \"filepath\": timepoint_path,\n",
    "                    \"id\": participant_id,\n",
    "                    \"timepoint\": timepoint,\n",
    "                }\n",
    "            )"
   ]
  },
  {
   "cell_type": "code",
   "execution_count": null,
   "metadata": {},
   "outputs": [],
   "source": [
    "csv_file = \"unprocessed_folders.csv\"\n",
    "with open(csv_file, mode=\"w\", newline=\"\", encoding=\"utf-8\") as file:\n",
    "    writer = csv.DictWriter(file, fieldnames=[\"filepath\", \"id\", \"timepoint\"])\n",
    "    writer.writeheader()\n",
    "    writer.writerows(unprocessed)"
   ]
  },
  {
   "cell_type": "code",
   "execution_count": 18,
   "metadata": {},
   "outputs": [
    {
     "name": "stdout",
     "output_type": "stream",
     "text": [
      "Processing command:\n",
      "python SquareEyes.py -f \"/mnt/z/Square_Eyes_DP20_Data/Participant_Data/Main Study/Community Sample/1009/Time_2/Images\" \"/mnt/z/Square_Eyes_DP20_Data/Participant_Data/Main Study/Community Sample/1041/Time_2/Images\" \"/mnt/z/Square_Eyes_DP20_Data/Participant_Data/Main Study/Community Sample/1098/Time_1/Images\" \"/mnt/z/Square_Eyes_DP20_Data/Participant_Data/Main Study/Community Sample/1098/Time_2/Images\" \"/mnt/z/Square_Eyes_DP20_Data/Participant_Data/Main Study/Community Sample/1107/Time_1/Images\" \"/mnt/z/Square_Eyes_DP20_Data/Participant_Data/Main Study/Community Sample/1186/Time_1/Images\" \"/mnt/z/Square_Eyes_DP20_Data/Participant_Data/Main Study/Community Sample/1219/Time_1/Images\" \"/mnt/z/Square_Eyes_DP20_Data/Participant_Data/Main Study/Community Sample/1220/Time_1/Images\" \"/mnt/z/Square_Eyes_DP20_Data/Participant_Data/Main Study/Community Sample/1221/Time_1/Images\" \"/mnt/z/Square_Eyes_DP20_Data/Participant_Data/Main Study/Community Sample/1243/Time_1/Images\" \"/mnt/z/Square_Eyes_DP20_Data/Participant_Data/Main Study/Community Sample/1264/Time_1/Images\" \"/mnt/z/Square_Eyes_DP20_Data/Participant_Data/Main Study/Community Sample/1268/Time_1/Images\" \"/mnt/z/Square_Eyes_DP20_Data/Participant_Data/Main Study/Community Sample/1287/Time_1/Images\" \"/mnt/z/Square_Eyes_DP20_Data/Participant_Data/Main Study/Community Sample/1305/Time_1/Images\" \"/mnt/z/Square_Eyes_DP20_Data/Participant_Data/Main Study/Community Sample/1320/Time_1/Images\" \"/mnt/z/Square_Eyes_DP20_Data/Participant_Data/Main Study/Community Sample/1324/Time_1/Images\" \"/mnt/z/Square_Eyes_DP20_Data/Participant_Data/Main Study/Community Sample/1331/Time_1/Images\" \"/mnt/z/Square_Eyes_DP20_Data/Participant_Data/Main Study/Community Sample/1339/Time_1/Images\" \"/mnt/z/Square_Eyes_DP20_Data/Participant_Data/Main Study/Community Sample/1347/Time_1/Images\" \"/mnt/z/Square_Eyes_DP20_Data/Participant_Data/Main Study/Community Sample/1376/Time_1/Images\" \"/mnt/z/Square_Eyes_DP20_Data/Participant_Data/Main Study/Community Sample/1387/Time_1/Images\" \"/mnt/z/Square_Eyes_DP20_Data/Participant_Data/Main Study/Community Sample/1390/Time_1/Images\" \"/mnt/z/Square_Eyes_DP20_Data/Participant_Data/Main Study/Community Sample/1409/Time_1/Images\" \"/mnt/z/Square_Eyes_DP20_Data/Participant_Data/Main Study/Community Sample/1435/Baseline/Images\" \"/mnt/z/Square_Eyes_DP20_Data/Participant_Data/Main Study/Community Sample/1467/Baseline/Images\" \"/mnt/z/Square_Eyes_DP20_Data/Participant_Data/Main Study/Community Sample/1485/Baseline/Images\" \"/mnt/z/Square_Eyes_DP20_Data/Participant_Data/Main Study/Community Sample/1486/Baseline/Images\" \"/mnt/z/Square_Eyes_DP20_Data/Participant_Data/Main Study/Community Sample/1506/Baseline/Images\" \"/mnt/z/Square_Eyes_DP20_Data/Participant_Data/Main Study/Community Sample/1528/Baseline/Images\" \"/mnt/z/Square_Eyes_DP20_Data/Participant_Data/Main Study/Community Sample/1540/Baseline/Images\" \"/mnt/z/Square_Eyes_DP20_Data/Participant_Data/Main Study/Community Sample/1542/Baseline/Images\" \"/mnt/z/Square_Eyes_DP20_Data/Participant_Data/Main Study/Community Sample/1563/Baseline/Images\" \"/mnt/z/Square_Eyes_DP20_Data/Participant_Data/Main Study/Community Sample/1565/Baseline/Images\" \"/mnt/z/Square_Eyes_DP20_Data/Participant_Data/Main Study/Community Sample/1602/Baseline/Images\" \"/mnt/z/Square_Eyes_DP20_Data/Participant_Data/Main Study/Community Sample/1613/Baseline/Images\" \"/mnt/z/Square_Eyes_DP20_Data/Participant_Data/Main Study/Community Sample/1614/Baseline/Images\" \"/mnt/z/Square_Eyes_DP20_Data/Participant_Data/Main Study/Community Sample/1618/Baseline/Images\" \"/mnt/z/Square_Eyes_DP20_Data/Participant_Data/Main Study/Community Sample/1620/Baseline/Images\" \"/mnt/z/Square_Eyes_DP20_Data/Participant_Data/Main Study/Community Sample/1621/Baseline/Images\"\n"
     ]
    }
   ],
   "source": [
    "# Print the command that words with Square Eyes processor\n",
    "\n",
    "folder_paths = \" \".join([f'\"{entry[\"filepath\"]}\"' for entry in unprocessed])\n",
    "processing_command = f\"python SquareEyes.py -f {folder_paths}\"\n",
    "print(\"Processing command:\")\n",
    "print(processing_command)"
   ]
  }
 ],
 "metadata": {
  "kernelspec": {
   "display_name": "square_eyes",
   "language": "python",
   "name": "python3"
  },
  "language_info": {
   "codemirror_mode": {
    "name": "ipython",
    "version": 3
   },
   "file_extension": ".py",
   "mimetype": "text/x-python",
   "name": "python",
   "nbconvert_exporter": "python",
   "pygments_lexer": "ipython3",
   "version": "3.10.11"
  }
 },
 "nbformat": 4,
 "nbformat_minor": 2
}
