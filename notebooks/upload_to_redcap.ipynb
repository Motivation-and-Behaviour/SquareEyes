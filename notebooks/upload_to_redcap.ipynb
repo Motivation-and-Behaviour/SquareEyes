{
 "cells": [
  {
   "cell_type": "code",
   "execution_count": 1,
   "metadata": {},
   "outputs": [],
   "source": [
    "import sys\n",
    "\n",
    "sys.path.append(\"../\")\n",
    "\n",
    "from src.processing.helpers import find_and_upload\n",
    "import configparser\n",
    "from dotenv import load_dotenv\n",
    "import os"
   ]
  },
  {
   "cell_type": "code",
   "execution_count": 2,
   "metadata": {},
   "outputs": [
    {
     "data": {
      "text/plain": [
       "['../config.ini']"
      ]
     },
     "execution_count": 2,
     "metadata": {},
     "output_type": "execute_result"
    }
   ],
   "source": [
    "load_dotenv()\n",
    "config = configparser.ConfigParser()\n",
    "config.read(\"../config.ini\")"
   ]
  },
  {
   "cell_type": "code",
   "execution_count": 3,
   "metadata": {},
   "outputs": [
    {
     "name": "stderr",
     "output_type": "stream",
     "text": [
      "Searching folders: 100%|██████████| 88/88 [00:32<00:00,  2.71it/s]\n",
      "Uploading file (/mnt/MBData/Square_Eyes_DP20_Data/Participant_Data/Main Study/Community Sample/1383/Baseline/Images/SquareEyes Template.ddb): 100%|██████████| 30/30 [00:57<00:00,  1.91s/it]      \n"
     ]
    }
   ],
   "source": [
    "find_and_upload(config[\"DEFAULT\"][\"folder_prefix\"], os.environ.get(\"REDCAP_API_KEY\"))"
   ]
  }
 ],
 "metadata": {
  "kernelspec": {
   "display_name": "square_eyes",
   "language": "python",
   "name": "python3"
  },
  "language_info": {
   "codemirror_mode": {
    "name": "ipython",
    "version": 3
   },
   "file_extension": ".py",
   "mimetype": "text/x-python",
   "name": "python",
   "nbconvert_exporter": "python",
   "pygments_lexer": "ipython3",
   "version": "3.10.11"
  }
 },
 "nbformat": 4,
 "nbformat_minor": 2
}
