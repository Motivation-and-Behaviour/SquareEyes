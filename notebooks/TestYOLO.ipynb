{
 "cells": [
  {
   "cell_type": "code",
   "execution_count": 1,
   "metadata": {},
   "outputs": [],
   "source": [
    "import numpy as np\n",
    "import cv2\n",
    "import os"
   ]
  },
  {
   "cell_type": "code",
   "execution_count": 2,
   "metadata": {},
   "outputs": [],
   "source": [
    "# Load the labels\n",
    "LABELS = open(\"/Users/tarensanders/darknet/data/coco.names\").read().strip().split(\"\\n\")"
   ]
  },
  {
   "cell_type": "code",
   "execution_count": 4,
   "metadata": {},
   "outputs": [],
   "source": [
    "# Get the weights on config\n",
    "configpath = \"/Users/tarensanders/darknet/cfg/yolov3.cfg\"\n",
    "weightspath = \"/Users/tarensanders/Google Drive/Square Eyes (DP20)/5 - Data collection and management/Image Blurring Test/Yolo/yolov3.weights\"\n",
    "\n",
    "net = cv2.dnn.readNetFromDarknet(configpath, weightspath)"
   ]
  },
  {
   "cell_type": "code",
   "execution_count": 31,
   "metadata": {},
   "outputs": [],
   "source": [
    "# Load the image\n",
    "testimage = \"/Volumes/M&B/Screen_Time_Measure_Development/SNAP_IT/1128/1128_day1/1128vid4image00016.jpg\"\n",
    "\n",
    "image = cv2.imread(testimage)\n",
    "(H,W) = image.shape[:2]"
   ]
  },
  {
   "cell_type": "code",
   "execution_count": 32,
   "metadata": {},
   "outputs": [],
   "source": [
    "# Determine the output layer names\n",
    "ln = net.getLayerNames()\n",
    "ln = [ln[i[0]-1] for i in net.getUnconnectedOutLayers()]"
   ]
  },
  {
   "cell_type": "code",
   "execution_count": 33,
   "metadata": {},
   "outputs": [],
   "source": [
    "# Create a blob and run through YOLO\n",
    "blob = cv2.dnn.blobFromImage(image, 1/255.0, (416,416),swapRB=True, crop=False)\n",
    "net.setInput(blob)\n",
    "layerOutputs = net.forward(ln)"
   ]
  },
  {
   "cell_type": "code",
   "execution_count": 34,
   "metadata": {},
   "outputs": [],
   "source": [
    "boxes = []\n",
    "confidences = []\n",
    "classIDs = []\n",
    "conf_thresh = 0.5\n",
    "nms_thresh = 0.3\n",
    "\n",
    "for output in layerOutputs:\n",
    "    for detection in output:\n",
    "        scores = detection[5:]\n",
    "        classID = np.argmax(scores)\n",
    "        confidence = scores[classID]\n",
    "        \n",
    "        if confidence > conf_thresh:\n",
    "            box = detection[0:4] * np.array([W, H, W, H])\n",
    "            (centerX, centerY, width, height) = box.astype(\"int\")\n",
    "            x = int(centerX - (width / 2))\n",
    "            y = int(centerY - (height / 2))\n",
    "            # update our list of bounding box coordinates, confidences,\n",
    "            # and class IDs\n",
    "            boxes.append([x, y, int(width), int(height)])\n",
    "            confidences.append(float(confidence))\n",
    "            classIDs.append(classID)            \n",
    "        \n",
    "# apply non-maxima suppression to suppress weak, overlapping bounding\n",
    "# boxes\n",
    "idxs = cv2.dnn.NMSBoxes(boxes, confidences, conf_thresh,nms_thresh)       "
   ]
  },
  {
   "cell_type": "code",
   "execution_count": 35,
   "metadata": {},
   "outputs": [
    {
     "name": "stdout",
     "output_type": "stream",
     "text": [
      "tvmonitor\n",
      "0.649584174156189\n",
      "person\n",
      "0.5826625227928162\n"
     ]
    }
   ],
   "source": [
    "for i in idxs.flatten():\n",
    "    print(LABELS[classIDs[i]])\n",
    "    print(confidences[i])"
   ]
  },
  {
   "cell_type": "code",
   "execution_count": null,
   "metadata": {},
   "outputs": [],
   "source": []
  }
 ],
 "metadata": {
  "kernelspec": {
   "display_name": "Python 3",
   "language": "python",
   "name": "python3"
  },
  "language_info": {
   "codemirror_mode": {
    "name": "ipython",
    "version": 3
   },
   "file_extension": ".py",
   "mimetype": "text/x-python",
   "name": "python",
   "nbconvert_exporter": "python",
   "pygments_lexer": "ipython3",
   "version": "3.7.4"
  }
 },
 "nbformat": 4,
 "nbformat_minor": 4
}
