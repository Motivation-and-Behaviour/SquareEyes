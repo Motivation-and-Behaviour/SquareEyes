{
 "cells": [
  {
   "cell_type": "code",
   "execution_count": 1,
   "metadata": {},
   "outputs": [],
   "source": [
    "import pytesseract\n",
    "import cv2\n",
    "import glob\n",
    "import os"
   ]
  },
  {
   "cell_type": "code",
   "execution_count": 2,
   "metadata": {},
   "outputs": [],
   "source": [
    "folder = \"/Volumes/M&B/Screen_Time_Measure_Development/SNAP_IT/Coding Framework Test Images/Participant 1\"\n",
    "images = glob.glob(folder+\"/*.jpg\")"
   ]
  },
  {
   "cell_type": "code",
   "execution_count": null,
   "metadata": {},
   "outputs": [],
   "source": [
    "x, y, w, h = 300, 720 - 16, 1280 - 600, 16\n",
    "\n",
    "for image in images:\n",
    "    im = cv2.imread(image)\n",
    "    # Just get the timestamp section of image\n",
    "    ROI = im[y : y + h, x : x + w]\n",
    "    # Invert colours\n",
    "    ROI = cv2.bitwise_not(ROI)\n",
    "    # Add whitespace around text (improves accuracy)\n",
    "    ROI = cv2.copyMakeBorder(\n",
    "        ROI, 15, 15, 0, 0, cv2.BORDER_CONSTANT, value=[255, 255, 255]\n",
    "    )\n",
    "    print(f\"{os.path.basename(image)}: {pytesseract.image_to_string(ROI, lang='eng')}\")"
   ]
  }
 ],
 "metadata": {
  "kernelspec": {
   "display_name": "Python 3",
   "language": "python",
   "name": "python3"
  },
  "language_info": {
   "codemirror_mode": {
    "name": "ipython",
    "version": 3
   },
   "file_extension": ".py",
   "mimetype": "text/x-python",
   "name": "python",
   "nbconvert_exporter": "python",
   "pygments_lexer": "ipython3",
   "version": "3.7.8"
  }
 },
 "nbformat": 4,
 "nbformat_minor": 4
}
