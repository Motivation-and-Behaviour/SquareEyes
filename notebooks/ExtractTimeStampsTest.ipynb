{
 "cells": [
  {
   "cell_type": "code",
   "execution_count": 14,
   "metadata": {},
   "outputs": [],
   "source": [
    "import pytesseract\n",
    "import cv2\n",
    "import glob\n",
    "import os\n",
    "import fnmatch\n",
    "from multiprocessing.pool import ThreadPool\n",
    "import multiprocessing\n",
    "from tqdm import tqdm\n",
    "import csv"
   ]
  },
  {
   "cell_type": "code",
   "execution_count": 10,
   "metadata": {},
   "outputs": [],
   "source": [
    "def find_folders(pattern, path):\n",
    "    result = []\n",
    "    for root, dirs, files in tqdm(os.walk(path)):\n",
    "        for name in dirs:\n",
    "            if fnmatch.fnmatch(name, pattern):\n",
    "                result.append(os.path.join(root, name))\n",
    "    return result\n",
    "\n",
    "def get_timestamps(images):\n",
    "    \n",
    "    def process_image(image):\n",
    "        x, y, w, h = 760, 1080 - 32, 1920 - 760, 32\n",
    "        im = cv2.imread(image)\n",
    "        # Just get the timestamp section of image\n",
    "        ROI = im[y : y + h, x : x + w]\n",
    "        # Invert colours\n",
    "        ROI = cv2.bitwise_not(ROI)\n",
    "        # Add whitespace around text (improves accuracy)\n",
    "        ROI = cv2.copyMakeBorder(\n",
    "            ROI, 15, 15, 0, 0, cv2.BORDER_CONSTANT, value=[255, 255, 255]\n",
    "        )\n",
    "        unclean_timestamp = pytesseract.image_to_string(ROI, lang='eng')\n",
    "        clean_timestamp = unclean_timestamp.replace(\"TLC130 \",\"\").strip()\n",
    "\n",
    "        return((os.path.basename(image), clean_timestamp))\n",
    "    \n",
    "\n",
    "    with ThreadPool(multiprocessing.cpu_count()) as p:\n",
    "        data = list(tqdm(p.imap(process_image, images), total=len(images))) \n",
    "    \n",
    "    return data"
   ]
  },
  {
   "cell_type": "code",
   "execution_count": 11,
   "metadata": {},
   "outputs": [
    {
     "data": {
      "application/vnd.jupyter.widget-view+json": {
       "model_id": "b0c3177f6eed4ab29bf06b5a2f2711dc",
       "version_major": 2,
       "version_minor": 0
      },
      "text/plain": [
       "0it [00:00, ?it/s]"
      ]
     },
     "metadata": {},
     "output_type": "display_data"
    }
   ],
   "source": [
    "starting_folder = \"/mnt/z/Square_Eyes_DP20_Data/Validation Study/Participant Data\"\n",
    "\n",
    "# image_folders = find_folders(\"*images*\", starting_folder)\n",
    "image_folders = [\n",
    " '/mnt/z/Square_Eyes_DP20_Data/Validation Study/Participant Data/4005/Images/Visit 1/images',\n",
    " '/mnt/z/Square_Eyes_DP20_Data/Validation Study/Participant Data/4005/Images/Visit 2/images',\n",
    " '/mnt/z/Square_Eyes_DP20_Data/Validation Study/Participant Data/4006/Images/Visit 1/images',\n",
    " '/mnt/z/Square_Eyes_DP20_Data/Validation Study/Participant Data/4006/Images/Visit 2/images',\n",
    "]"
   ]
  },
  {
   "cell_type": "code",
   "execution_count": null,
   "metadata": {},
   "outputs": [],
   "source": [
    "for image_folder in tqdm(image_folders, desc = \"Folders\"):\n",
    "    images = glob.glob(image_folder+\"/*.jpg\")\n",
    "    data = get_timestamps(images)\n",
    "    with open(os.path.join(os.path.dirname(image_folder), \"timestamps.csv\"), \"w\", encoding='utf-8') as f:\n",
    "        writer = csv.writer(f)\n",
    "        writer.writerow([\"Filename\", \"Timestamp\"])\n",
    "        writer.writerows(data)"
   ]
  },
  {
   "cell_type": "code",
   "execution_count": 16,
   "metadata": {},
   "outputs": [],
   "source": [
    "import numpy as np\n",
    "import pandas as pd"
   ]
  },
  {
   "cell_type": "code",
   "execution_count": 20,
   "metadata": {},
   "outputs": [],
   "source": [
    "df = pd.read_csv(\"/mnt/z/Square_Eyes_DP20_Data/Validation Study/Participant Data/4005/Images/Visit 1/timestamps.csv\")"
   ]
  },
  {
   "cell_type": "code",
   "execution_count": 33,
   "metadata": {},
   "outputs": [],
   "source": [
    "image = \"/mnt/z/Square_Eyes_DP20_Data/Validation Study/Participant Data/4005/Images/Visit 1/images/4005_TLC00001_00010.jpg\""
   ]
  },
  {
   "cell_type": "code",
   "execution_count": 34,
   "metadata": {},
   "outputs": [],
   "source": [
    "x, y, w, h = 760, 1080 - 32, 1920 - 760, 32\n",
    "im = cv2.imread(image)\n",
    "# Just get the timestamp section of image\n",
    "ROI = im[y : y + h, x : x + w]\n",
    "# Invert colours\n",
    "ROI = cv2.bitwise_not(ROI)\n",
    "# Add whitespace around text (improves accuracy)\n",
    "ROI = cv2.copyMakeBorder(\n",
    "    ROI, 15, 15, 0, 0, cv2.BORDER_CONSTANT, value=[255, 255, 255]\n",
    ")\n",
    "unclean_timestamp = pytesseract.image_to_string(ROI, lang='eng')\n",
    "clean_timestamp = unclean_timestamp.replace(\"TLC130 \",\"\").strip()"
   ]
  },
  {
   "cell_type": "code",
   "execution_count": 35,
   "metadata": {},
   "outputs": [
    {
     "data": {
      "text/plain": [
       "'2023/03/23 16:28:11'"
      ]
     },
     "execution_count": 35,
     "metadata": {},
     "output_type": "execute_result"
    }
   ],
   "source": [
    "clean_timestamp"
   ]
  },
  {
   "cell_type": "code",
   "execution_count": 32,
   "metadata": {},
   "outputs": [
    {
     "data": {
      "text/plain": [
       "array([['4005_TLC00001_00001.jpg', '23/03/2023 16:27'],\n",
       "       ['4005_TLC00001_00002.jpg', '23/03/2023 16:27'],\n",
       "       ['4005_TLC00001_00003.jpg', '23/03/2023 16:27'],\n",
       "       ...,\n",
       "       ['4005_TLC00003_02895.jpg', '23/03/2023 18:22'],\n",
       "       ['4005_TLC00003_02896.jpg', '23/03/2023 18:22'],\n",
       "       ['4005_TLC00003_02897.jpg', '23/03/2023 18:23']], dtype=object)"
      ]
     },
     "execution_count": 32,
     "metadata": {},
     "output_type": "execute_result"
    }
   ],
   "source": [
    "df.values"
   ]
  }
 ],
 "metadata": {
  "kernelspec": {
   "display_name": "Python 3",
   "language": "python",
   "name": "python3"
  },
  "language_info": {
   "codemirror_mode": {
    "name": "ipython",
    "version": 3
   },
   "file_extension": ".py",
   "mimetype": "text/x-python",
   "name": "python",
   "nbconvert_exporter": "python",
   "pygments_lexer": "ipython3",
   "version": "3.10.11"
  }
 },
 "nbformat": 4,
 "nbformat_minor": 4
}
