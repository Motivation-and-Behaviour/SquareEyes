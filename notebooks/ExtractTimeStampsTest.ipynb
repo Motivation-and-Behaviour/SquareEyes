{
 "cells": [
  {
   "cell_type": "code",
   "execution_count": 1,
   "metadata": {},
   "outputs": [],
   "source": [
    "import pytesseract\n",
    "import cv2\n",
    "import glob\n",
    "import os\n",
    "import fnmatch\n",
    "from multiprocessing.pool import ThreadPool\n",
    "import multiprocessing\n",
    "from tqdm import tqdm\n",
    "import csv"
   ]
  },
  {
   "cell_type": "code",
   "execution_count": 2,
   "metadata": {},
   "outputs": [],
   "source": [
    "def find_folders(pattern, path):\n",
    "    result = []\n",
    "    for root, dirs, files in tqdm(os.walk(path)):\n",
    "        for name in dirs:\n",
    "            if fnmatch.fnmatch(name, pattern):\n",
    "                result.append(os.path.join(root, name))\n",
    "    return result\n",
    "\n",
    "def get_timestamps(images):\n",
    "    \n",
    "    def process_image(image):\n",
    "        x, y, w, h = 760, 1080 - 32, 1920 - 760, 32\n",
    "        im = cv2.imread(image)\n",
    "        # Just get the timestamp section of image\n",
    "        ROI = im[y : y + h, x : x + w]\n",
    "        # Invert colours\n",
    "        ROI = cv2.bitwise_not(ROI)\n",
    "        # Add whitespace around text (improves accuracy)\n",
    "        ROI = cv2.copyMakeBorder(\n",
    "            ROI, 15, 15, 0, 0, cv2.BORDER_CONSTANT, value=[255, 255, 255]\n",
    "        )\n",
    "        unclean_timestamp = pytesseract.image_to_string(ROI, lang='eng')\n",
    "        clean_timestamp = unclean_timestamp.replace(\"TLC130 \",\"\").strip()\n",
    "\n",
    "        return((os.path.basename(image), clean_timestamp))\n",
    "    \n",
    "\n",
    "    with ThreadPool(multiprocessing.cpu_count()) as p:\n",
    "        data = list(tqdm(p.imap(process_image, images), total=len(images))) \n",
    "    \n",
    "    return data"
   ]
  },
  {
   "cell_type": "code",
   "execution_count": 3,
   "metadata": {},
   "outputs": [],
   "source": [
    "starting_folder = \"/mnt/z/Square_Eyes_DP20_Data/Validation Study/Participant Data\"\n",
    "\n",
    "# image_folders = find_folders(\"*images*\", starting_folder)\n",
    "image_folders = [\n",
    "  \"/mnt/MBData/Square_Eyes_DP20_Data/Test Files/Model Test/0001/Images/images\"\n",
    "]"
   ]
  },
  {
   "cell_type": "code",
   "execution_count": 17,
   "metadata": {},
   "outputs": [],
   "source": [
    "import numpy as np\n",
    "def extract_timestamp(image_path: str) -> str:\n",
    "    image = cv2.imread(image_path)\n",
    "\n",
    "    x, y, w, h = 760, 1048, 1048, 32\n",
    "    # Just get the timestamp section of image\n",
    "    roi = image[y : y + h, x : x + w]\n",
    "    # Invert colours\n",
    "    roi = cv2.bitwise_not(roi)\n",
    "    # Add whitespace around text (improves accuracy)\n",
    "    roi = cv2.copyMakeBorder(\n",
    "        roi, 15, 15, 0, 0, cv2.BORDER_CONSTANT, value=[255, 255, 255]\n",
    "    )\n",
    "    unclean_timestamp = pytesseract.image_to_string(roi, lang=\"eng\")\n",
    "    if not unclean_timestamp.startswith(\"TLC130\"):\n",
    "        return \"\"\n",
    "    clean_timestamp = unclean_timestamp.replace(\"TLC130 \", \"\").strip()\n",
    "\n",
    "    return clean_timestamp"
   ]
  },
  {
   "cell_type": "code",
   "execution_count": 15,
   "metadata": {},
   "outputs": [],
   "source": [
    "test_image = \"/mnt/MBData/Square_Eyes_DP20_Data/Test Files/Model Test/0001/Images/images/4002_TLC00001_00004.jpg\"\n"
   ]
  },
  {
   "cell_type": "code",
   "execution_count": 16,
   "metadata": {},
   "outputs": [
    {
     "data": {
      "text/plain": [
       "array([[16, 16, 16],\n",
       "       [16, 16, 16],\n",
       "       [16, 16, 16],\n",
       "       [17, 15, 14]], dtype=uint8)"
      ]
     },
     "execution_count": 16,
     "metadata": {},
     "output_type": "execute_result"
    }
   ],
   "source": [
    "black_pixels = image[black_coords[:, 1], black_coords[:, 0]]\n",
    "black_pixels"
   ]
  },
  {
   "cell_type": "code",
   "execution_count": 18,
   "metadata": {},
   "outputs": [],
   "source": [
    "for image_folder in image_folders:\n",
    "    images = glob.glob(os.path.join(image_folder, \"*.jpg\"))\n",
    "    out_data = []\n",
    "    for image in images:\n",
    "        timestamp = extract_timestamp(image)\n",
    "        out_data.append((os.path.basename(image), timestamp))\n",
    "    with open(os.path.join(image_folder, \"timestamps.csv\"), \"w\") as f:\n",
    "        writer = csv.writer(f)\n",
    "        writer.writerow([\"image\", \"timestamp\"])\n",
    "        writer.writerows(out_data)"
   ]
  },
  {
   "cell_type": "code",
   "execution_count": 8,
   "metadata": {},
   "outputs": [
    {
     "data": {
      "text/plain": [
       "0"
      ]
     },
     "execution_count": 8,
     "metadata": {},
     "output_type": "execute_result"
    }
   ],
   "source": [
    "len(out_data)"
   ]
  },
  {
   "cell_type": "code",
   "execution_count": 4,
   "metadata": {},
   "outputs": [
    {
     "name": "stderr",
     "output_type": "stream",
     "text": [
      "100%|██████████| 40/40 [00:01<00:00, 26.37it/s]\n",
      "Folders: 100%|██████████| 1/1 [00:01<00:00,  1.96s/it]\n"
     ]
    }
   ],
   "source": [
    "for image_folder in tqdm(image_folders, desc = \"Folders\"):\n",
    "    images = glob.glob(image_folder+\"/*.jpg\")\n",
    "    data = get_timestamps(images)\n",
    "    with open(os.path.join(os.path.dirname(image_folder), \"timestamps.csv\"), \"w\", encoding='utf-8') as f:\n",
    "        writer = csv.writer(f)\n",
    "        writer.writerow([\"Filename\", \"Timestamp\"])\n",
    "        writer.writerows(data)"
   ]
  },
  {
   "cell_type": "code",
   "execution_count": 16,
   "metadata": {},
   "outputs": [],
   "source": [
    "import numpy as np\n",
    "import pandas as pd"
   ]
  },
  {
   "cell_type": "code",
   "execution_count": 20,
   "metadata": {},
   "outputs": [],
   "source": [
    "df = pd.read_csv(\"/mnt/z/Square_Eyes_DP20_Data/Validation Study/Participant Data/4005/Images/Visit 1/timestamps.csv\")"
   ]
  },
  {
   "cell_type": "code",
   "execution_count": 33,
   "metadata": {},
   "outputs": [],
   "source": [
    "image = \"/mnt/z/Square_Eyes_DP20_Data/Validation Study/Participant Data/4005/Images/Visit 1/images/4005_TLC00001_00010.jpg\""
   ]
  },
  {
   "cell_type": "code",
   "execution_count": 34,
   "metadata": {},
   "outputs": [],
   "source": [
    "x, y, w, h = 760, 1080 - 32, 1920 - 760, 32\n",
    "im = cv2.imread(image)\n",
    "# Just get the timestamp section of image\n",
    "ROI = im[y : y + h, x : x + w]\n",
    "# Invert colours\n",
    "ROI = cv2.bitwise_not(ROI)\n",
    "# Add whitespace around text (improves accuracy)\n",
    "ROI = cv2.copyMakeBorder(\n",
    "    ROI, 15, 15, 0, 0, cv2.BORDER_CONSTANT, value=[255, 255, 255]\n",
    ")\n",
    "unclean_timestamp = pytesseract.image_to_string(ROI, lang='eng')\n",
    "clean_timestamp = unclean_timestamp.replace(\"TLC130 \",\"\").strip()"
   ]
  },
  {
   "cell_type": "code",
   "execution_count": 35,
   "metadata": {},
   "outputs": [
    {
     "data": {
      "text/plain": [
       "'2023/03/23 16:28:11'"
      ]
     },
     "execution_count": 35,
     "metadata": {},
     "output_type": "execute_result"
    }
   ],
   "source": [
    "clean_timestamp"
   ]
  },
  {
   "cell_type": "code",
   "execution_count": 32,
   "metadata": {},
   "outputs": [
    {
     "data": {
      "text/plain": [
       "array([['4005_TLC00001_00001.jpg', '23/03/2023 16:27'],\n",
       "       ['4005_TLC00001_00002.jpg', '23/03/2023 16:27'],\n",
       "       ['4005_TLC00001_00003.jpg', '23/03/2023 16:27'],\n",
       "       ...,\n",
       "       ['4005_TLC00003_02895.jpg', '23/03/2023 18:22'],\n",
       "       ['4005_TLC00003_02896.jpg', '23/03/2023 18:22'],\n",
       "       ['4005_TLC00003_02897.jpg', '23/03/2023 18:23']], dtype=object)"
      ]
     },
     "execution_count": 32,
     "metadata": {},
     "output_type": "execute_result"
    }
   ],
   "source": [
    "df.values"
   ]
  }
 ],
 "metadata": {
  "kernelspec": {
   "display_name": "Python 3",
   "language": "python",
   "name": "python3"
  },
  "language_info": {
   "codemirror_mode": {
    "name": "ipython",
    "version": 3
   },
   "file_extension": ".py",
   "mimetype": "text/x-python",
   "name": "python",
   "nbconvert_exporter": "python",
   "pygments_lexer": "ipython3",
   "version": "3.10.11"
  }
 },
 "nbformat": 4,
 "nbformat_minor": 4
}
