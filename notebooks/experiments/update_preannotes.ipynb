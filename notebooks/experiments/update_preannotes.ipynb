{
 "cells": [
  {
   "cell_type": "code",
   "execution_count": null,
   "metadata": {},
   "outputs": [],
   "source": [
    "from label_studio_sdk import Client\n",
    "from ultralytics import YOLO\n",
    "from tqdm.notebook import tqdm\n",
    "\n",
    "import numpy as np\n",
    "import pandas as pd\n",
    "from pathlib import Path\n",
    "import os\n",
    "import glob\n",
    "import shutil"
   ]
  },
  {
   "cell_type": "code",
   "execution_count": null,
   "metadata": {},
   "outputs": [],
   "source": [
    "LABEL_STUDIO_URL = \"http://localhost:8080\"\n",
    "API_KEY = \"\"\n",
    "ls = Client(url=LABEL_STUDIO_URL, api_key=API_KEY)\n",
    "ls.check_connection()"
   ]
  },
  {
   "cell_type": "code",
   "execution_count": null,
   "metadata": {},
   "outputs": [],
   "source": [
    "model = YOLO(\"runs/detect/OpenSource_Full_V1/weights/best.pt\")"
   ]
  },
  {
   "cell_type": "code",
   "execution_count": null,
   "metadata": {},
   "outputs": [],
   "source": [
    "val_study = ls.get_project(2)"
   ]
  },
  {
   "cell_type": "code",
   "execution_count": null,
   "metadata": {},
   "outputs": [],
   "source": [
    "tasks = val_study.get_tasks()"
   ]
  },
  {
   "cell_type": "code",
   "execution_count": null,
   "metadata": {},
   "outputs": [],
   "source": [
    "new_tasks = []\n",
    "\n",
    "for _, row in tqdm(\n",
    "    sampled_df.iterrows(),\n",
    "    total=sampled_df.shape[0],\n",
    "    desc=\"Copying and annotating images\",\n",
    "):\n",
    "    image_path = row[\"image_path\"]\n",
    "\n",
    "    if os.path.exists(image_path):  # Ensure the source image exists\n",
    "        # Extract the image file name from the path\n",
    "        image_name = os.path.basename(image_path)\n",
    "\n",
    "        # Create the destination path\n",
    "        dest_path_jpg = os.path.join(dest_folder, image_name)\n",
    "\n",
    "        if not os.path.exists(dest_path_jpg):\n",
    "            # Copy the image to the destination\n",
    "            shutil.copy(image_path, dest_path_jpg)\n",
    "            img_url = f\"/data/local-files/?d=GitHub/SquareEyes/{dest_path_jpg}\"\n",
    "            pred = model.predict(dest_path_jpg, verbose=False)\n",
    "            new_preds = []\n",
    "            for box in pred[0].boxes:\n",
    "                label = int(box.cls[0])\n",
    "                confidence = float(box.conf[0])\n",
    "                x_c, y_c, w, h = box.xywhn[0]\n",
    "                x = float(x_c - w / 2) * 100\n",
    "                y = float(y_c - h / 2) * 100\n",
    "                w, h = float(w) * 100, float(h) * 100\n",
    "                org_h, org_w = box.orig_shape[0], box.orig_shape[0]\n",
    "                new_preds.append(\n",
    "                    {\n",
    "                        \"type\": \"rectanglelabels\",\n",
    "                        \"value\": {\n",
    "                            \"x\": x,\n",
    "                            \"y\": y,\n",
    "                            \"width\": w,\n",
    "                            \"height\": h,\n",
    "                            \"rectanglelabels\": [pred[0].names[label]],\n",
    "                            \"score\": confidence,\n",
    "                        },\n",
    "                        \"to_name\": \"image\",\n",
    "                        \"from_name\": \"label\",\n",
    "                        \"image_rotation\": 0,\n",
    "                        \"original_width\": org_w,\n",
    "                        \"original_height\": org_h,\n",
    "                    },\n",
    "                )\n",
    "            new_tasks.append(\n",
    "                {\n",
    "                    \"data\": {\"image\": img_url},\n",
    "                    \"predictions\": {\n",
    "                        \"model_version\": \"Full_Base_V1\",\n",
    "                        \"result\": new_preds,\n",
    "                    },\n",
    "                }\n",
    "            )\n",
    "\n",
    "    else:\n",
    "        print(f\"Image not found: {image_path}\")"
   ]
  },
  {
   "cell_type": "code",
   "execution_count": null,
   "metadata": {},
   "outputs": [],
   "source": [
    "new_tasks = [\n",
    "    {\"data\": item[\"data\"], \"predictions\": [item[\"predictions\"]]} for item in new_tasks\n",
    "]\n",
    "val_study.import_tasks(new_tasks)"
   ]
  },
  {
   "cell_type": "code",
   "execution_count": 2,
   "metadata": {},
   "outputs": [
    {
     "data": {
      "text/plain": [
       "0.3717809212912586"
      ]
     },
     "execution_count": 2,
     "metadata": {},
     "output_type": "execute_result"
    }
   ],
   "source": [
    "(743+199+83)/2757"
   ]
  }
 ],
 "metadata": {
  "kernelspec": {
   "display_name": "square_eyes",
   "language": "python",
   "name": "python3"
  },
  "language_info": {
   "codemirror_mode": {
    "name": "ipython",
    "version": 3
   },
   "file_extension": ".py",
   "mimetype": "text/x-python",
   "name": "python",
   "nbconvert_exporter": "python",
   "pygments_lexer": "ipython3",
   "version": "3.10.11"
  },
  "orig_nbformat": 4
 },
 "nbformat": 4,
 "nbformat_minor": 2
}
